{
 "cells": [
  {
   "cell_type": "code",
   "execution_count": 65,
   "metadata": {},
   "outputs": [],
   "source": [
    "lst=[761, 123, 585, 275, 194, 840, 999, 622, 763, 40, 825, 687, 402, 338, 611, 987, 739,\n",
    "95, 819, 568, 320, 126, 688, 948, 514, 223, 751, 379, 857, 767, 492, 162, 437, 934, 430, \n",
    "343, 725, 511, 580, 678, 708, 823, 346, 179, 786, 663, 195, 890, 267, 502, 214, 300, 786, 961, 235, \n",
    "559, 992, 919, 948, 318, 57, 787, 653, 317, 305, 172, 966, 182, 970, 17, 89, 624, 629, 595, 485, 752, 984,\n",
    "978, 460, 124, 321, 256, 614, 852, 811, 561, 127, 207, 406, 615, 888, 391, 691, 470, 911, 401, 137, 600, 478, 682]"
   ]
  },
  {
   "cell_type": "code",
   "execution_count": 66,
   "metadata": {},
   "outputs": [],
   "source": [
    "def meanf(a):\n",
    "    s=0\n",
    "    count=0\n",
    "    for i in a:\n",
    "        s=s+i\n",
    "        count=count+1\n",
    "    return s,count"
   ]
  },
  {
   "cell_type": "code",
   "execution_count": 67,
   "metadata": {},
   "outputs": [],
   "source": [
    "s,count=meanf(lst)"
   ]
  },
  {
   "cell_type": "code",
   "execution_count": 69,
   "metadata": {},
   "outputs": [
    {
     "name": "stdout",
     "output_type": "stream",
     "text": [
      "542.94\n"
     ]
    }
   ],
   "source": [
    "mean=s/count\n",
    "print(mean)"
   ]
  },
  {
   "cell_type": "code",
   "execution_count": 95,
   "metadata": {},
   "outputs": [
    {
     "name": "stdout",
     "output_type": "stream",
     "text": [
      "max 999 min 17\n",
      "the range is  17 to 999\n"
     ]
    }
   ],
   "source": [
    "def ari(a):\n",
    "    total=0\n",
    "    count=0\n",
    "    minval=a[0]\n",
    "    maxval=a[0]\n",
    "    for i in a:\n",
    "        if i < minval:\n",
    "            minval=i\n",
    "        elif i > maxval:\n",
    "            maxval=i\n",
    "    return maxval,minval\n",
    "maxval,minval=ari(lst)\n",
    "print(\"max\",maxval,\"min\",minval)\n",
    "print(\"the range is \",minval, \"to\",maxval)\n",
    "            \n",
    "    "
   ]
  }
 ],
 "metadata": {
  "kernelspec": {
   "display_name": "Python 3",
   "language": "python",
   "name": "python3"
  },
  "language_info": {
   "codemirror_mode": {
    "name": "ipython",
    "version": 3
   },
   "file_extension": ".py",
   "mimetype": "text/x-python",
   "name": "python",
   "nbconvert_exporter": "python",
   "pygments_lexer": "ipython3",
   "version": "3.11.4"
  },
  "orig_nbformat": 4
 },
 "nbformat": 4,
 "nbformat_minor": 2
}
