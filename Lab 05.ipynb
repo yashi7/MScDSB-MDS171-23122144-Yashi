{
 "cells": [
  {
   "cell_type": "code",
   "execution_count": 11,
   "metadata": {},
   "outputs": [
    {
     "name": "stdout",
     "output_type": "stream",
     "text": [
      "a\n",
      "i\n",
      "Total vowels 2\n"
     ]
    },
    {
     "data": {
      "text/plain": [
       "40.0"
      ]
     },
     "execution_count": 11,
     "metadata": {},
     "output_type": "execute_result"
    }
   ],
   "source": [
    "def count(inp):\n",
    "    vowels = \"aeiou\"\n",
    "    count1 = 0\n",
    "\n",
    "    for i in inp:\n",
    "        if i in vowels:\n",
    "            count1=count1+ 1\n",
    "            print(i)\n",
    "\n",
    "    return count1\n",
    "\n",
    "user_input = input(\"Enter a string: \")\n",
    "total = count(user_input)\n",
    "\n",
    "print(\"Total vowels\", total)\n",
    "\n",
    "def per(string):\n",
    "    a=len(string)\n",
    "    percent=(total/a)*100\n",
    "    return percent\n",
    "per(user_input)"
   ]
  },
  {
   "cell_type": "code",
   "execution_count": null,
   "metadata": {},
   "outputs": [],
   "source": []
  }
 ],
 "metadata": {
  "kernelspec": {
   "display_name": "Python 3",
   "language": "python",
   "name": "python3"
  },
  "language_info": {
   "codemirror_mode": {
    "name": "ipython",
    "version": 3
   },
   "file_extension": ".py",
   "mimetype": "text/x-python",
   "name": "python",
   "nbconvert_exporter": "python",
   "pygments_lexer": "ipython3",
   "version": "3.11.4"
  },
  "orig_nbformat": 4
 },
 "nbformat": 4,
 "nbformat_minor": 2
}
