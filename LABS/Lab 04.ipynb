{
 "cells": [
  {
   "cell_type": "code",
   "execution_count": 7,
   "metadata": {},
   "outputs": [],
   "source": [
    "def orders(Name,product,Quantity):\n",
    "    file=open(\"GSMS\",\"a+\")\n",
    "    file.write(\"\\n\\t\"+name)\n",
    "    file.write(\"\\n\\t\"+Product)\n",
    "    file.write(\"\\n\\t\"+quantity)   # writing the name quantity and product in the file\n",
    "name=input(\"enter your name\")\n",
    "Product=input(\"enter the product you want to order\")\n",
    "quantity=input(\"enter the quntity of the product\")# taking the input \n",
    "orders(name,Product,quantity)"
   ]
  },
  {
   "cell_type": "code",
   "execution_count": 8,
   "metadata": {},
   "outputs": [
    {
     "data": {
      "text/plain": [
       "['\\n',\n",
       " '\\tyashi\\n',\n",
       " '\\tapple\\n',\n",
       " '\\t2\\n',\n",
       " '\\tsaara\\n',\n",
       " '\\tbanana\\n',\n",
       " '\\t6\\n',\n",
       " '\\tpragya\\n',\n",
       " '\\tguava\\n',\n",
       " '\\t4']"
      ]
     },
     "execution_count": 8,
     "metadata": {},
     "output_type": "execute_result"
    }
   ],
   "source": [
    "file=open(\"GSMS\",\"r+\")\n",
    "a=file.readlines()# reading the contents in the file\n",
    "a"
   ]
  },
  {
   "cell_type": "code",
   "execution_count": 9,
   "metadata": {},
   "outputs": [
    {
     "data": {
      "text/plain": [
       "['\\t2\\n', '\\t6\\n', '\\t4']"
      ]
     },
     "execution_count": 9,
     "metadata": {},
     "output_type": "execute_result"
    }
   ],
   "source": [
    "counter=3\n",
    "lst=[]\n",
    "for i in a:\n",
    "    if counter==0:\n",
    "        lst.append(i)\n",
    "        counter=3\n",
    "    counter=counter-1  # fetching the quantity of all the products from the file and putting them in a list\n",
    "lst        \n",
    " "
   ]
  },
  {
   "cell_type": "code",
   "execution_count": 10,
   "metadata": {},
   "outputs": [
    {
     "data": {
      "text/plain": [
       "['\\tapple\\n', '\\tbanana\\n', '\\tguava\\n']"
      ]
     },
     "execution_count": 10,
     "metadata": {},
     "output_type": "execute_result"
    }
   ],
   "source": [
    "counter=2\n",
    "lst1=[]\n",
    "for i in a:\n",
    "    if counter==0:\n",
    "        lst1.append(i)\n",
    "        counter=3\n",
    "    counter=counter-1   # fetching all the products from the file and putting them in a list\n",
    "lst1"
   ]
  },
  {
   "cell_type": "code",
   "execution_count": 14,
   "metadata": {},
   "outputs": [
    {
     "name": "stdout",
     "output_type": "stream",
     "text": [
      "The total number of products sold: 12\n"
     ]
    }
   ],
   "source": [
    "total=0\n",
    "for i in lst:\n",
    "    total=total+int(i)\n",
    "print(\"The total number of products sold:\",total)\n"
   ]
  },
  {
   "cell_type": "code",
   "execution_count": 22,
   "metadata": {},
   "outputs": [
    {
     "name": "stdout",
     "output_type": "stream",
     "text": [
      "The sold items are: \tapple\n",
      " The quantity sold: \t2\n",
      "\n",
      "The sold items are: \tbanana\n",
      " The quantity sold: \t6\n",
      "\n",
      "The sold items are: \tguava\n",
      " The quantity sold: \t4\n"
     ]
    }
   ],
   "source": [
    "count=0\n",
    "for i in lst1:\n",
    "    print(\"The sold items are:\",i,\"The quantity sold:\",lst[count])\n",
    "    count=count+1"
   ]
  }
 ],
 "metadata": {
  "kernelspec": {
   "display_name": "Python 3",
   "language": "python",
   "name": "python3"
  },
  "language_info": {
   "codemirror_mode": {
    "name": "ipython",
    "version": 3
   },
   "file_extension": ".py",
   "mimetype": "text/x-python",
   "name": "python",
   "nbconvert_exporter": "python",
   "pygments_lexer": "ipython3",
   "version": "3.11.4"
  },
  "orig_nbformat": 4
 },
 "nbformat": 4,
 "nbformat_minor": 2
}
