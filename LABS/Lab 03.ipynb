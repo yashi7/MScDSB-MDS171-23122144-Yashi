{
 "cells": [
  {
   "cell_type": "code",
   "execution_count": 3,
   "metadata": {},
   "outputs": [],
   "source": [
    "lst=[761, 123, 585, 275, 194, 840, 999, 622, 763, 40, 825, 687, 402, 338, 611, 987, 739,\n",
    "95, 819, 568, 320, 126, 688, 948, 514, 223, 751, 379, 857, 767, 492, 162, 437, 934, 430, \n",
    "343, 725, 511, 580, 678, 708, 823, 346, 179, 786, 663, 195, 890, 267, 502, 214, 300, 786, 961, 235, \n",
    "559, 992, 919, 948, 318, 57, 787, 653, 317, 305, 172, 966, 182, 970, 17, 89, 624, 629, 595, 485, 752, 984,\n",
    "978, 460, 124, 321, 256, 614, 852, 811, 561, 127, 207, 406, 615, 888, 391, 691, 470, 911, 401, 137, 600, 478, 682]"
   ]
  },
  {
   "cell_type": "code",
   "execution_count": 10,
   "metadata": {},
   "outputs": [
    {
     "name": "stdout",
     "output_type": "stream",
     "text": [
      "542.94\n"
     ]
    }
   ],
   "source": [
    "\n",
    "def mean(a):\n",
    "    sum=0\n",
    "    count=0\n",
    "    for i in a:\n",
    "        sum =sum+i\n",
    "        count=count+1\n",
    "    mean=sum/count\n",
    "    print(mean)\n",
    "mean(lst)"
   ]
  },
  {
   "cell_type": "code",
   "execution_count": 11,
   "metadata": {},
   "outputs": [
    {
     "name": "stdout",
     "output_type": "stream",
     "text": [
      "minimum 17 maximum 999\n",
      "The range is : 17 to 999\n"
     ]
    }
   ],
   "source": [
    "\n",
    "def arithematica(a):\n",
    "    min=a[0]\n",
    "    max=a[0]\n",
    "    for i in a:\n",
    "        if i<min:\n",
    "            min=i\n",
    "        elif i>max:\n",
    "            max=i\n",
    "    print(\"minimum\",min,\"maximum\",max)\n",
    "    print(\"The range is :\",min,\"to\",max)      \n",
    "arithematica(lst)       \n",
    "    "
   ]
  }
 ],
 "metadata": {
  "kernelspec": {
   "display_name": "Python 3",
   "language": "python",
   "name": "python3"
  },
  "language_info": {
   "codemirror_mode": {
    "name": "ipython",
    "version": 3
   },
   "file_extension": ".py",
   "mimetype": "text/x-python",
   "name": "python",
   "nbconvert_exporter": "python",
   "pygments_lexer": "ipython3",
   "version": "3.11.4"
  },
  "orig_nbformat": 4
 },
 "nbformat": 4,
 "nbformat_minor": 2
}
