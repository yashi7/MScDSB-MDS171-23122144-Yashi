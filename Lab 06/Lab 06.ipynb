{
 "cells": [
  {
   "cell_type": "code",
   "execution_count": 4,
   "metadata": {},
   "outputs": [],
   "source": [
    "\n",
    "list_1=[\"mango\",\"banana\",\"apple\",\"grapes\",\"guava\",\"kiwi\",\"pineapple\",\"pear\",\"watermelon\",\"melon\"]\n",
    "list_2=[\"1\",\"2\",\"3\",\"4\",\"5\",\"6\",\"7\",\"8\",\"9\",\"10\"]\n",
    "list_3=[\"30\",\"20\",\"100\",\"50\",\"40\",\"80\",\"55\",\"67\",\"45\",\"75\"]\n"
   ]
  },
  {
   "cell_type": "code",
   "execution_count": 5,
   "metadata": {},
   "outputs": [],
   "source": [
    "import random\n",
    "file=open(\"23122144\",\"w+\")\n",
    "file.write(\"ITEM,QUANTITY,PRICE\\n\")\n",
    "for i in range(0,100,1):\n",
    "    a=random.randint(0,9)\n",
    "    b=random.randint(0,9)\n",
    "    c=random.randint(0,9)\n",
    "    file.write(list_1[a]+\",\"+list_2[b]+\",\"+list_3[c]+\"\\n\")\n",
    "file.close()\n",
    "\n"
   ]
  },
  {
   "cell_type": "code",
   "execution_count": 6,
   "metadata": {},
   "outputs": [],
   "source": [
    "file=open(\"23122144\",\"r+\")\n",
    "d=file.readlines()"
   ]
  },
  {
   "cell_type": "code",
   "execution_count": 7,
   "metadata": {},
   "outputs": [],
   "source": [
    "def par(string):\n",
    "    h=string.split(\",\")\n",
    "    return h[2]\n"
   ]
  },
  {
   "cell_type": "code",
   "execution_count": 8,
   "metadata": {},
   "outputs": [],
   "source": [
    "price=[]\n",
    "for i in d:\n",
    "    j=par(i)\n",
    "    s=j.split('\\n')\n",
    "    price.append(s[0])"
   ]
  },
  {
   "cell_type": "code",
   "execution_count": 9,
   "metadata": {},
   "outputs": [],
   "source": [
    "total=0\n",
    "for i in price:\n",
    "    if i==\"PRICE\":\n",
    "        continue\n",
    "    else:\n",
    "        total=total+int(i)"
   ]
  },
  {
   "cell_type": "code",
   "execution_count": 10,
   "metadata": {},
   "outputs": [
    {
     "data": {
      "text/plain": [
       "5706"
      ]
     },
     "execution_count": 10,
     "metadata": {},
     "output_type": "execute_result"
    }
   ],
   "source": [
    "total"
   ]
  },
  {
   "cell_type": "code",
   "execution_count": 11,
   "metadata": {},
   "outputs": [],
   "source": [
    "def par(string):\n",
    "    h=string.split(\",\")\n",
    "    return h[1]"
   ]
  },
  {
   "cell_type": "code",
   "execution_count": 12,
   "metadata": {},
   "outputs": [],
   "source": [
    "quantity=[]\n",
    "for i in d:\n",
    "    j=par(i)\n",
    "    quantity.append(j)"
   ]
  },
  {
   "cell_type": "code",
   "execution_count": 13,
   "metadata": {},
   "outputs": [],
   "source": [
    "t_quan=0\n",
    "for i in quantity:\n",
    "    if i==\"QUANTITY\":\n",
    "        continue\n",
    "    else:\n",
    "        t_quan=t_quan+int(i)"
   ]
  },
  {
   "cell_type": "code",
   "execution_count": 14,
   "metadata": {},
   "outputs": [
    {
     "data": {
      "text/plain": [
       "544"
      ]
     },
     "execution_count": 14,
     "metadata": {},
     "output_type": "execute_result"
    }
   ],
   "source": [
    "t_quan"
   ]
  },
  {
   "cell_type": "code",
   "execution_count": 15,
   "metadata": {},
   "outputs": [],
   "source": [
    "final=0\n",
    "prod_sum=0\n",
    "for i in range(1,100,1):\n",
    "    prod_sum=prod_sum+(int(quantity[i])*int(price[i]))"
   ]
  },
  {
   "cell_type": "code",
   "execution_count": 16,
   "metadata": {},
   "outputs": [
    {
     "data": {
      "text/plain": [
       "29110"
      ]
     },
     "execution_count": 16,
     "metadata": {},
     "output_type": "execute_result"
    }
   ],
   "source": [
    "prod_sum"
   ]
  },
  {
   "cell_type": "code",
   "execution_count": 17,
   "metadata": {},
   "outputs": [
    {
     "name": "stdout",
     "output_type": "stream",
     "text": [
      "ITEM,QUANTITY,PRICE\n",
      "\n",
      "pear,3,67\n",
      "\n",
      "banana,5,50\n",
      "\n",
      "guava,7,50\n",
      "\n",
      "banana,7,40\n",
      "\n",
      "watermelon,8,80\n",
      "\n"
     ]
    }
   ],
   "source": [
    "count=0  #for the first five rows\n",
    "for i in d:\n",
    "    count=count+1\n",
    "    if count<7:\n",
    "        print(i)"
   ]
  },
  {
   "cell_type": "code",
   "execution_count": 18,
   "metadata": {},
   "outputs": [
    {
     "name": "stdout",
     "output_type": "stream",
     "text": [
      "melon,3,40\n",
      "\n",
      "guava,2,45\n",
      "\n",
      "mango,8,75\n",
      "\n",
      "mango,1,75\n",
      "\n",
      "pineapple,10,67\n",
      "\n",
      "pear,4,55\n",
      "\n",
      "pineapple,6,75\n",
      "\n",
      "mango,2,80\n",
      "\n",
      "guava,7,40\n",
      "\n",
      "grapes,10,75\n",
      "\n"
     ]
    }
   ],
   "source": [
    "count=0 #for the lat 10 rows\n",
    "for i in d:\n",
    "    count=count+1\n",
    "    if count>91:\n",
    "        print(i)"
   ]
  },
  {
   "cell_type": "code",
   "execution_count": null,
   "metadata": {},
   "outputs": [],
   "source": []
  }
 ],
 "metadata": {
  "kernelspec": {
   "display_name": "Python 3",
   "language": "python",
   "name": "python3"
  },
  "language_info": {
   "codemirror_mode": {
    "name": "ipython",
    "version": 3
   },
   "file_extension": ".py",
   "mimetype": "text/x-python",
   "name": "python",
   "nbconvert_exporter": "python",
   "pygments_lexer": "ipython3",
   "version": "3.11.4"
  },
  "orig_nbformat": 4
 },
 "nbformat": 4,
 "nbformat_minor": 2
}
