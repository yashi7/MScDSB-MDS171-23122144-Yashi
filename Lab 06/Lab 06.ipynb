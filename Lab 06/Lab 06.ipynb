{
 "cells": [
  {
   "cell_type": "code",
   "execution_count": 1,
   "metadata": {},
   "outputs": [],
   "source": [
    "\n",
    "list_1=[\"mango\",\"banana\",\"apple\",\"grapes\",\"guava\",\"kiwi\",\"pineapple\",\"pear\",\"watermelon\",\"melon\"]\n",
    "list_2=[\"1\",\"2\",\"3\",\"4\",\"5\",\"6\",\"7\",\"8\",\"9\",\"10\"]\n",
    "list_3=[\"30\",\"20\",\"100\",\"50\",\"40\",\"80\",\"55\",\"67\",\"45\",\"75\"]\n"
   ]
  },
  {
   "cell_type": "code",
   "execution_count": 2,
   "metadata": {},
   "outputs": [],
   "source": [
    "import random\n",
    "file=open(\"23122144\",\"w+\")\n",
    "file.write(\"ITEM,QUANTITY,PRICE\\n\")\n",
    "for i in range(0,100,1):\n",
    "    a=random.randint(0,9)\n",
    "    b=random.randint(0,9)\n",
    "    c=random.randint(0,9)\n",
    "    file.write(list_1[a]+\",\"+list_2[b]+\",\"+list_3[c]+\"\\n\")\n",
    "file.close()  # from the list writing random item , price and quantity to the file\n",
    "\n"
   ]
  },
  {
   "cell_type": "code",
   "execution_count": null,
   "metadata": {},
   "outputs": [],
   "source": [
    "file=open(\"23122144\",\"r+\")\n",
    "d=file.readlines() #reading the file\n",
    "d"
   ]
  },
  {
   "cell_type": "code",
   "execution_count": 5,
   "metadata": {},
   "outputs": [],
   "source": [
    "def prices(string):\n",
    "    h=string.split(\",\")\n",
    "    return h[2]  # spliting each item in the file and fetching the price from each item\n"
   ]
  },
  {
   "cell_type": "code",
   "execution_count": 6,
   "metadata": {},
   "outputs": [
    {
     "data": {
      "text/plain": [
       "['PRICE',\n",
       " '55',\n",
       " '80',\n",
       " '30',\n",
       " '67',\n",
       " '30',\n",
       " '30',\n",
       " '40',\n",
       " '40',\n",
       " '30',\n",
       " '67',\n",
       " '40',\n",
       " '45',\n",
       " '30',\n",
       " '30',\n",
       " '40',\n",
       " '67',\n",
       " '80',\n",
       " '30',\n",
       " '80',\n",
       " '100',\n",
       " '75',\n",
       " '67',\n",
       " '40',\n",
       " '80',\n",
       " '40',\n",
       " '45',\n",
       " '67',\n",
       " '55',\n",
       " '67',\n",
       " '30',\n",
       " '100',\n",
       " '50',\n",
       " '50',\n",
       " '30',\n",
       " '50',\n",
       " '67',\n",
       " '67',\n",
       " '55',\n",
       " '55',\n",
       " '67',\n",
       " '67',\n",
       " '80',\n",
       " '40',\n",
       " '55',\n",
       " '45',\n",
       " '75',\n",
       " '45',\n",
       " '55',\n",
       " '45',\n",
       " '100',\n",
       " '30',\n",
       " '75',\n",
       " '80',\n",
       " '80',\n",
       " '80',\n",
       " '50',\n",
       " '50',\n",
       " '40',\n",
       " '80',\n",
       " '100',\n",
       " '30',\n",
       " '55',\n",
       " '20',\n",
       " '30',\n",
       " '20',\n",
       " '20',\n",
       " '75',\n",
       " '50',\n",
       " '30',\n",
       " '30',\n",
       " '80',\n",
       " '30',\n",
       " '67',\n",
       " '50',\n",
       " '40',\n",
       " '67',\n",
       " '40',\n",
       " '30',\n",
       " '45',\n",
       " '55',\n",
       " '80',\n",
       " '20',\n",
       " '80',\n",
       " '20',\n",
       " '55',\n",
       " '30',\n",
       " '40',\n",
       " '50',\n",
       " '50',\n",
       " '67',\n",
       " '30',\n",
       " '100',\n",
       " '45',\n",
       " '20',\n",
       " '40',\n",
       " '55',\n",
       " '80',\n",
       " '80',\n",
       " '20',\n",
       " '45']"
      ]
     },
     "execution_count": 6,
     "metadata": {},
     "output_type": "execute_result"
    }
   ],
   "source": [
    "price=[]\n",
    "for i in d:\n",
    "    j=prices(i)\n",
    "    s=j.split('\\n')\n",
    "    price.append(s[0])  # making a list of all the prices\n",
    "price"
   ]
  },
  {
   "cell_type": "code",
   "execution_count": 7,
   "metadata": {},
   "outputs": [
    {
     "data": {
      "text/plain": [
       "5311"
      ]
     },
     "execution_count": 7,
     "metadata": {},
     "output_type": "execute_result"
    }
   ],
   "source": [
    "total=0\n",
    "for i in price:\n",
    "    if i==\"PRICE\":\n",
    "        continue\n",
    "    else:\n",
    "        total=total+int(i)\n",
    "total   # finding the total of all the prices"
   ]
  },
  {
   "cell_type": "code",
   "execution_count": 8,
   "metadata": {},
   "outputs": [],
   "source": [
    "def quan(string):\n",
    "    h=string.split(\",\")\n",
    "    return h[1]   # spliting each item in the list by commas and fetching the quantity of each item"
   ]
  },
  {
   "cell_type": "code",
   "execution_count": 9,
   "metadata": {},
   "outputs": [
    {
     "data": {
      "text/plain": [
       "['QUANTITY',\n",
       " '1',\n",
       " '5',\n",
       " '6',\n",
       " '10',\n",
       " '3',\n",
       " '1',\n",
       " '2',\n",
       " '6',\n",
       " '8',\n",
       " '9',\n",
       " '3',\n",
       " '2',\n",
       " '8',\n",
       " '5',\n",
       " '9',\n",
       " '2',\n",
       " '4',\n",
       " '6',\n",
       " '10',\n",
       " '5',\n",
       " '3',\n",
       " '6',\n",
       " '8',\n",
       " '10',\n",
       " '3',\n",
       " '10',\n",
       " '3',\n",
       " '10',\n",
       " '6',\n",
       " '5',\n",
       " '5',\n",
       " '2',\n",
       " '4',\n",
       " '4',\n",
       " '8',\n",
       " '2',\n",
       " '5',\n",
       " '5',\n",
       " '6',\n",
       " '8',\n",
       " '4',\n",
       " '9',\n",
       " '9',\n",
       " '6',\n",
       " '10',\n",
       " '9',\n",
       " '10',\n",
       " '8',\n",
       " '2',\n",
       " '10',\n",
       " '2',\n",
       " '5',\n",
       " '2',\n",
       " '10',\n",
       " '9',\n",
       " '6',\n",
       " '4',\n",
       " '5',\n",
       " '3',\n",
       " '6',\n",
       " '1',\n",
       " '9',\n",
       " '6',\n",
       " '4',\n",
       " '4',\n",
       " '1',\n",
       " '6',\n",
       " '3',\n",
       " '2',\n",
       " '8',\n",
       " '10',\n",
       " '2',\n",
       " '9',\n",
       " '4',\n",
       " '7',\n",
       " '6',\n",
       " '7',\n",
       " '7',\n",
       " '3',\n",
       " '10',\n",
       " '1',\n",
       " '10',\n",
       " '7',\n",
       " '9',\n",
       " '5',\n",
       " '1',\n",
       " '6',\n",
       " '8',\n",
       " '9',\n",
       " '7',\n",
       " '6',\n",
       " '1',\n",
       " '8',\n",
       " '6',\n",
       " '7',\n",
       " '7',\n",
       " '9',\n",
       " '5',\n",
       " '9',\n",
       " '7']"
      ]
     },
     "execution_count": 9,
     "metadata": {},
     "output_type": "execute_result"
    }
   ],
   "source": [
    "quantity=[]\n",
    "for i in d:\n",
    "    j=quan(i)\n",
    "    quantity.append(j)  # making a list of all the quantities \n",
    "quantity"
   ]
  },
  {
   "cell_type": "code",
   "execution_count": 11,
   "metadata": {},
   "outputs": [
    {
     "data": {
      "text/plain": [
       "584"
      ]
     },
     "execution_count": 11,
     "metadata": {},
     "output_type": "execute_result"
    }
   ],
   "source": [
    "t_quan=0\n",
    "for i in quantity:\n",
    "    if i==\"QUANTITY\":\n",
    "        continue\n",
    "    else:\n",
    "        t_quan=t_quan+int(i)\n",
    "t_quan  # getting the total of all the quantities"
   ]
  },
  {
   "cell_type": "code",
   "execution_count": 12,
   "metadata": {},
   "outputs": [
    {
     "data": {
      "text/plain": [
       "31364"
      ]
     },
     "execution_count": 12,
     "metadata": {},
     "output_type": "execute_result"
    }
   ],
   "source": [
    "final=0\n",
    "prod_sum=0\n",
    "for i in range(1,100,1):\n",
    "    prod_sum=prod_sum+(int(quantity[i])*int(price[i]))\n",
    "prod_sum  # getting the price total of all the items and the quantity they were bought in"
   ]
  },
  {
   "cell_type": "code",
   "execution_count": 17,
   "metadata": {},
   "outputs": [
    {
     "name": "stdout",
     "output_type": "stream",
     "text": [
      "ITEM,QUANTITY,PRICE\n",
      "\n",
      "pear,3,67\n",
      "\n",
      "banana,5,50\n",
      "\n",
      "guava,7,50\n",
      "\n",
      "banana,7,40\n",
      "\n",
      "watermelon,8,80\n",
      "\n"
     ]
    }
   ],
   "source": [
    "count=0  #for the first five rows\n",
    "for i in d:\n",
    "    count=count+1\n",
    "    if count<7:\n",
    "        print(i)"
   ]
  },
  {
   "cell_type": "code",
   "execution_count": 18,
   "metadata": {},
   "outputs": [
    {
     "name": "stdout",
     "output_type": "stream",
     "text": [
      "melon,3,40\n",
      "\n",
      "guava,2,45\n",
      "\n",
      "mango,8,75\n",
      "\n",
      "mango,1,75\n",
      "\n",
      "pineapple,10,67\n",
      "\n",
      "pear,4,55\n",
      "\n",
      "pineapple,6,75\n",
      "\n",
      "mango,2,80\n",
      "\n",
      "guava,7,40\n",
      "\n",
      "grapes,10,75\n",
      "\n"
     ]
    }
   ],
   "source": [
    "count=0 #for the lat 10 rows\n",
    "for i in d:\n",
    "    count=count+1\n",
    "    if count>91:\n",
    "        print(i)"
   ]
  }
 ],
 "metadata": {
  "kernelspec": {
   "display_name": "Python 3",
   "language": "python",
   "name": "python3"
  },
  "language_info": {
   "codemirror_mode": {
    "name": "ipython",
    "version": 3
   },
   "file_extension": ".py",
   "mimetype": "text/x-python",
   "name": "python",
   "nbconvert_exporter": "python",
   "pygments_lexer": "ipython3",
   "version": "3.11.4"
  },
  "orig_nbformat": 4
 },
 "nbformat": 4,
 "nbformat_minor": 2
}
