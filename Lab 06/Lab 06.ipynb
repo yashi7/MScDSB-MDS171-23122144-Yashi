{
 "cells": [
  {
   "cell_type": "code",
   "execution_count": 109,
   "metadata": {},
   "outputs": [],
   "source": [
    "\n",
    "list_1=[\"mango\",\"banana\",\"apple\",\"grapes\",\"guava\",\"kiwi\",\"pineapple\",\"pear\",\"watermelon\",\"melon\"]\n",
    "list_2=[\"1\",\"2\",\"3\",\"4\",\"5\",\"6\",\"7\",\"8\",\"9\",\"10\"]\n",
    "list_3=[\"30\",\"20\",\"100\",\"50\",\"40\",\"80\",\"55\",\"67\",\"45\",\"75\"]\n"
   ]
  },
  {
   "cell_type": "code",
   "execution_count": 145,
   "metadata": {},
   "outputs": [],
   "source": [
    "import random\n",
    "file=open(\"23122144\",\"w+\")\n",
    "file.write(\"ITEM,QUANTITY,PRICE\\n\")\n",
    "for i in range(0,100,1):\n",
    "    a=random.randint(0,9)\n",
    "    b=random.randint(0,9)\n",
    "    c=random.randint(0,9)\n",
    "    file.write(list_1[a]+\",\"+list_2[b]+\",\"+list_3[c]+\"\\n\")\n",
    "file.close()\n",
    "\n"
   ]
  },
  {
   "cell_type": "code",
   "execution_count": 146,
   "metadata": {},
   "outputs": [],
   "source": [
    "file=open(\"23122144\",\"r+\")\n",
    "d=file.readlines()"
   ]
  },
  {
   "cell_type": "code",
   "execution_count": 182,
   "metadata": {},
   "outputs": [],
   "source": [
    "def par(string):\n",
    "    h=string.split(\",\")\n",
    "    return h[2]\n"
   ]
  },
  {
   "cell_type": "code",
   "execution_count": 192,
   "metadata": {},
   "outputs": [],
   "source": [
    "price=[]\n",
    "for i in d:\n",
    "    j=par(i)\n",
    "    s=j.split('\\n')\n",
    "    price.append(s[0])"
   ]
  },
  {
   "cell_type": "code",
   "execution_count": 193,
   "metadata": {},
   "outputs": [
    {
     "data": {
      "text/plain": [
       "['PRICE',\n",
       " '100',\n",
       " '30',\n",
       " '80',\n",
       " '55',\n",
       " '50',\n",
       " '80',\n",
       " '80',\n",
       " '30',\n",
       " '75',\n",
       " '20',\n",
       " '30',\n",
       " '20',\n",
       " '40',\n",
       " '75',\n",
       " '100',\n",
       " '20',\n",
       " '50',\n",
       " '75',\n",
       " '20',\n",
       " '80',\n",
       " '45',\n",
       " '20',\n",
       " '45',\n",
       " '20',\n",
       " '80',\n",
       " '100',\n",
       " '67',\n",
       " '30',\n",
       " '80',\n",
       " '40',\n",
       " '40',\n",
       " '67',\n",
       " '40',\n",
       " '40',\n",
       " '45',\n",
       " '50',\n",
       " '80',\n",
       " '80',\n",
       " '50',\n",
       " '45',\n",
       " '100',\n",
       " '50',\n",
       " '30',\n",
       " '55',\n",
       " '67',\n",
       " '30',\n",
       " '45',\n",
       " '100',\n",
       " '45',\n",
       " '75',\n",
       " '50',\n",
       " '75',\n",
       " '80',\n",
       " '20',\n",
       " '100',\n",
       " '30',\n",
       " '30',\n",
       " '100',\n",
       " '75',\n",
       " '75',\n",
       " '40',\n",
       " '45',\n",
       " '45',\n",
       " '40',\n",
       " '55',\n",
       " '67',\n",
       " '80',\n",
       " '100',\n",
       " '80',\n",
       " '100',\n",
       " '45',\n",
       " '45',\n",
       " '40',\n",
       " '100',\n",
       " '80',\n",
       " '55',\n",
       " '40',\n",
       " '30',\n",
       " '20',\n",
       " '67',\n",
       " '100',\n",
       " '75',\n",
       " '67',\n",
       " '67',\n",
       " '55',\n",
       " '45',\n",
       " '45',\n",
       " '67',\n",
       " '100',\n",
       " '55',\n",
       " '50',\n",
       " '75',\n",
       " '55',\n",
       " '45',\n",
       " '75',\n",
       " '67',\n",
       " '100',\n",
       " '20',\n",
       " '55',\n",
       " '75']"
      ]
     },
     "execution_count": 193,
     "metadata": {},
     "output_type": "execute_result"
    }
   ],
   "source": [
    "price"
   ]
  },
  {
   "cell_type": "code",
   "execution_count": 196,
   "metadata": {},
   "outputs": [],
   "source": [
    "total=0\n",
    "for i in price:\n",
    "    if i==\"PRICE\":\n",
    "        continue\n",
    "    else:\n",
    "        total=total+int(i)"
   ]
  },
  {
   "cell_type": "code",
   "execution_count": 197,
   "metadata": {},
   "outputs": [
    {
     "data": {
      "text/plain": [
       "5873"
      ]
     },
     "execution_count": 197,
     "metadata": {},
     "output_type": "execute_result"
    }
   ],
   "source": [
    "total"
   ]
  },
  {
   "cell_type": "code",
   "execution_count": 198,
   "metadata": {},
   "outputs": [],
   "source": [
    "def par(string):\n",
    "    h=string.split(\",\")\n",
    "    return h[1]"
   ]
  },
  {
   "cell_type": "code",
   "execution_count": 199,
   "metadata": {},
   "outputs": [],
   "source": [
    "quantity=[]\n",
    "for i in d:\n",
    "    j=par(i)\n",
    "    quantity.append(j)"
   ]
  },
  {
   "cell_type": "code",
   "execution_count": 200,
   "metadata": {},
   "outputs": [
    {
     "data": {
      "text/plain": [
       "['QUANTITY',\n",
       " '8',\n",
       " '5',\n",
       " '9',\n",
       " '6',\n",
       " '7',\n",
       " '3',\n",
       " '5',\n",
       " '2',\n",
       " '8',\n",
       " '5',\n",
       " '8',\n",
       " '9',\n",
       " '5',\n",
       " '7',\n",
       " '3',\n",
       " '4',\n",
       " '9',\n",
       " '4',\n",
       " '10',\n",
       " '9',\n",
       " '9',\n",
       " '9',\n",
       " '10',\n",
       " '9',\n",
       " '1',\n",
       " '5',\n",
       " '10',\n",
       " '10',\n",
       " '10',\n",
       " '4',\n",
       " '2',\n",
       " '9',\n",
       " '10',\n",
       " '2',\n",
       " '6',\n",
       " '1',\n",
       " '1',\n",
       " '6',\n",
       " '4',\n",
       " '5',\n",
       " '2',\n",
       " '7',\n",
       " '5',\n",
       " '2',\n",
       " '9',\n",
       " '2',\n",
       " '3',\n",
       " '5',\n",
       " '7',\n",
       " '4',\n",
       " '3',\n",
       " '5',\n",
       " '1',\n",
       " '4',\n",
       " '5',\n",
       " '6',\n",
       " '5',\n",
       " '10',\n",
       " '10',\n",
       " '9',\n",
       " '4',\n",
       " '2',\n",
       " '10',\n",
       " '4',\n",
       " '4',\n",
       " '1',\n",
       " '8',\n",
       " '6',\n",
       " '5',\n",
       " '5',\n",
       " '10',\n",
       " '6',\n",
       " '10',\n",
       " '4',\n",
       " '2',\n",
       " '9',\n",
       " '1',\n",
       " '10',\n",
       " '9',\n",
       " '3',\n",
       " '5',\n",
       " '1',\n",
       " '7',\n",
       " '4',\n",
       " '7',\n",
       " '4',\n",
       " '2',\n",
       " '9',\n",
       " '3',\n",
       " '8',\n",
       " '6',\n",
       " '5',\n",
       " '3',\n",
       " '2',\n",
       " '10',\n",
       " '7',\n",
       " '8',\n",
       " '2',\n",
       " '8',\n",
       " '3']"
      ]
     },
     "execution_count": 200,
     "metadata": {},
     "output_type": "execute_result"
    }
   ],
   "source": [
    "quantity"
   ]
  },
  {
   "cell_type": "code",
   "execution_count": 201,
   "metadata": {},
   "outputs": [],
   "source": [
    "t_quan=0\n",
    "for i in quantity:\n",
    "    if i==\"QUANTITY\":\n",
    "        continue\n",
    "    else:\n",
    "        t_quan=t_quan+int(i)"
   ]
  },
  {
   "cell_type": "code",
   "execution_count": 202,
   "metadata": {},
   "outputs": [
    {
     "data": {
      "text/plain": [
       "570"
      ]
     },
     "execution_count": 202,
     "metadata": {},
     "output_type": "execute_result"
    }
   ],
   "source": [
    "t_quan"
   ]
  },
  {
   "cell_type": "code",
   "execution_count": null,
   "metadata": {},
   "outputs": [],
   "source": []
  }
 ],
 "metadata": {
  "kernelspec": {
   "display_name": "Python 3",
   "language": "python",
   "name": "python3"
  },
  "language_info": {
   "codemirror_mode": {
    "name": "ipython",
    "version": 3
   },
   "file_extension": ".py",
   "mimetype": "text/x-python",
   "name": "python",
   "nbconvert_exporter": "python",
   "pygments_lexer": "ipython3",
   "version": "3.11.4"
  },
  "orig_nbformat": 4
 },
 "nbformat": 4,
 "nbformat_minor": 2
}
