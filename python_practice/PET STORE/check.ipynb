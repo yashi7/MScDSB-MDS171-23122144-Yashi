{
 "cells": [
  {
   "cell_type": "code",
   "execution_count": 20,
   "metadata": {},
   "outputs": [
    {
     "name": "stdout",
     "output_type": "stream",
     "text": [
      "1. add a dog\n",
      "2. add a cat\n",
      "3. search the pet\n",
      "4. sell a pet\n",
      "5. print the pets\n",
      "6. exit\n",
      "1. add a dog\n",
      "2. add a cat\n",
      "3. search the pet\n",
      "4. sell a pet\n",
      "5. print the pets\n",
      "6. exit\n",
      "1. add a dog\n",
      "2. add a cat\n",
      "3. search the pet\n",
      "4. sell a pet\n",
      "5. print the pets\n",
      "6. exit\n",
      "{'dogs': [{'breed': 'husky', 'age': '2', 'gender': 'male', 'price': '2000'}], 'cats': [{'breed': 'bombay', 'age': '3', 'gender': 'female', 'price': '3000'}]}\n",
      "1. add a dog\n",
      "2. add a cat\n",
      "3. search the pet\n",
      "4. sell a pet\n",
      "5. print the pets\n",
      "6. exit\n",
      "{'dogs': [{'breed': 'husky', 'age': '2', 'gender': 'male', 'price': '2000'}], 'cats': [{'breed': 'bombay', 'age': '3', 'gender': 'female', 'price': '3000'}]}\n",
      "1. add a dog\n",
      "2. add a cat\n",
      "3. search the pet\n",
      "4. sell a pet\n",
      "5. print the pets\n",
      "6. exit\n",
      "{'breed': 'husky', 'age': '2', 'gender': 'male', 'price': '2000'}\n",
      "1. add a dog\n",
      "2. add a cat\n",
      "3. search the pet\n",
      "4. sell a pet\n",
      "5. print the pets\n",
      "6. exit\n",
      "your order is done \n",
      " please pay: 2000\n",
      "1. add a dog\n",
      "2. add a cat\n",
      "3. search the pet\n",
      "4. sell a pet\n",
      "5. print the pets\n",
      "6. exit\n",
      "your order is done \n",
      " please pay: 3000\n",
      "1. add a dog\n",
      "2. add a cat\n",
      "3. search the pet\n",
      "4. sell a pet\n",
      "5. print the pets\n",
      "6. exit\n"
     ]
    }
   ],
   "source": [
    "\n",
    "class petstore:\n",
    "    def __init__(self):\n",
    "        self.pets={\n",
    "            \"dogs\":[],\n",
    "            \"cats\":[]\n",
    "\n",
    "        }\n",
    "        \n",
    "        \n",
    "    def add_details(self,pet_type,breed,age,gender,price):\n",
    "            details={\n",
    "                \"breed\":breed,\n",
    "                \"age\":age,\n",
    "                \"gender\":gender,\n",
    "                \"price\":price,\n",
    "            }\n",
    "            if pet_type==\"dogs\":\n",
    "                self.pets[\"dogs\"].append(details)\n",
    "            elif pet_type==\"cats\":\n",
    "                self.pets[\"cats\"].append(details)\n",
    "    def search(self):\n",
    "        pet_type=input(\"enter the type of pet\")\n",
    "        breed=input(\"enter the breed\")\n",
    "        if pet_type in self.pets:\n",
    "            for item in self.pets[pet_type]:\n",
    "                if item[\"breed\"]==breed:\n",
    "                    print(item)\n",
    "    def sell(self):\n",
    "        pet_type=input(\"enter the type\")\n",
    "        breed=input(\"enter the breed\")\n",
    "        if pet_type in self.pets:\n",
    "            for item in self.pets[pet_type]:\n",
    "                if item[\"breed\"]==breed:\n",
    "                    print(\"your order is done \\n\",\"please pay:\",item[\"price\"])\n",
    "\n",
    "            \n",
    "    def print(self):\n",
    "        print(self.pets)\n",
    "\n",
    "def collectInput():\n",
    "    breed = input(\"Enter the breed \")\n",
    "    age = input(\"Enter age \")\n",
    "    gender = input(\"Enter gender\")\n",
    "    price = input(\"enter the price \")\n",
    "    return breed, age, gender, price\n",
    "\n",
    "pets=petstore()\n",
    "\n",
    "while True:\n",
    "    print(\"1. add a dog\")\n",
    "    print(\"2. add a cat\")\n",
    "    print(\"3. search the pet\")\n",
    "    print(\"4. sell a pet\")\n",
    "    print(\"5. print the pets\")\n",
    "    print(\"6. exit\")\n",
    "\n",
    "    choice=input(\"enter ypur choice\")\n",
    "    if choice==\"1\":\n",
    "        breed,age,gender,price= collectInput()\n",
    "        pets.add_details(\"dogs\",breed,age,gender,price)\n",
    "    elif choice==\"2\":\n",
    "        breed,age,gender,price=collectInput()\n",
    "        pets.add_details(\"cats\",breed,age,gender,price)\n",
    "    elif choice==\"3\":\n",
    "        pets.search()\n",
    "    elif choice==\"4\":\n",
    "        pets.sell()\n",
    "    elif choice==\"5\":\n",
    "        pets.print()\n",
    "    elif choice==\"6\":\n",
    "       break\n",
    "    \n"
   ]
  },
  {
   "cell_type": "code",
   "execution_count": 21,
   "metadata": {},
   "outputs": [
    {
     "ename": "NameError",
     "evalue": "name 'pet_type' is not defined",
     "output_type": "error",
     "traceback": [
      "\u001b[1;31m---------------------------------------------------------------------------\u001b[0m",
      "\u001b[1;31mNameError\u001b[0m                                 Traceback (most recent call last)",
      "\u001b[1;32mc:\\Users\\yashi\\python\\PET STORE\\check.ipynb Cell 2\u001b[0m line \u001b[0;36m1\n\u001b[1;32m----> <a href='vscode-notebook-cell:/c%3A/Users/yashi/python/PET%20STORE/check.ipynb#W1sZmlsZQ%3D%3D?line=0'>1</a>\u001b[0m pets\u001b[39m.\u001b[39mpets[pet_type]\n",
      "\u001b[1;31mNameError\u001b[0m: name 'pet_type' is not defined"
     ]
    }
   ],
   "source": [
    "pets.pets[]"
   ]
  },
  {
   "cell_type": "code",
   "execution_count": 5,
   "metadata": {},
   "outputs": [],
   "source": [
    "pets.sell()"
   ]
  },
  {
   "cell_type": "code",
   "execution_count": 15,
   "metadata": {},
   "outputs": [],
   "source": [
    "def sell():\n",
    "    type=input(\"enter the type\")\n",
    "    breed=input(\"enter the breed\")\n",
    "    if type==\"dog\":\n",
    "        for i in range(1,3):\n",
    "            if breed==\"husky\":\n",
    "                print(\"your order is done \\n\",\"please pay:\",\"price\")\n"
   ]
  },
  {
   "cell_type": "code",
   "execution_count": 16,
   "metadata": {},
   "outputs": [
    {
     "name": "stdout",
     "output_type": "stream",
     "text": [
      "your order is done \n",
      " please pay: price\n",
      "your order is done \n",
      " please pay: price\n"
     ]
    }
   ],
   "source": [
    "sell()"
   ]
  },
  {
   "cell_type": "code",
   "execution_count": 19,
   "metadata": {},
   "outputs": [
    {
     "ename": "KeyError",
     "evalue": "'type'",
     "output_type": "error",
     "traceback": [
      "\u001b[1;31m---------------------------------------------------------------------------\u001b[0m",
      "\u001b[1;31mKeyError\u001b[0m                                  Traceback (most recent call last)",
      "\u001b[1;32mc:\\Users\\yashi\\python\\PET STORE\\check.ipynb Cell 6\u001b[0m line \u001b[0;36m1\n\u001b[1;32m----> <a href='vscode-notebook-cell:/c%3A/Users/yashi/python/PET%20STORE/check.ipynb#W6sZmlsZQ%3D%3D?line=0'>1</a>\u001b[0m pets\u001b[39m.\u001b[39;49mpets[\u001b[39m\"\u001b[39;49m\u001b[39mtype\u001b[39;49m\u001b[39m\"\u001b[39;49m]\n",
      "\u001b[1;31mKeyError\u001b[0m: 'type'"
     ]
    }
   ],
   "source": [
    "pets.pets[\"type\"]"
   ]
  },
  {
   "cell_type": "code",
   "execution_count": null,
   "metadata": {},
   "outputs": [],
   "source": []
  }
 ],
 "metadata": {
  "kernelspec": {
   "display_name": "Python 3",
   "language": "python",
   "name": "python3"
  },
  "language_info": {
   "codemirror_mode": {
    "name": "ipython",
    "version": 3
   },
   "file_extension": ".py",
   "mimetype": "text/x-python",
   "name": "python",
   "nbconvert_exporter": "python",
   "pygments_lexer": "ipython3",
   "version": "3.11.4"
  }
 },
 "nbformat": 4,
 "nbformat_minor": 2
}
