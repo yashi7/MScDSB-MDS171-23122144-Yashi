{
 "cells": [
  {
   "cell_type": "code",
   "execution_count": 1,
   "metadata": {},
   "outputs": [],
   "source": [
    "# Create a sportMart class, where you will have \n",
    "# -> inventory / shelf of items\n",
    "# -> Orders of customers\n",
    "\n",
    "# Create csv file which will store your inventory details and order details\n",
    "\n",
    "# with the help of file handling technqiues in python, read the file and create an object for trinity store and populate the \n",
    "# inventory items and orders into the trinity store.\n",
    "\n",
    "# to make sure that you have added all the items in your file, use a display method to show your inventory and order history.\n"
   ]
  },
  {
   "cell_type": "code",
   "execution_count": 2,
   "metadata": {},
   "outputs": [
    {
     "name": "stdout",
     "output_type": "stream",
     "text": [
      "{'POO3': {'productid': 'POO3', 'productname': 'Tennis balls', 'quantity': '400', 'price': '100'}, 'POO4': {'productid': 'POO4', 'productname': 'Tennis rackets', 'quantity': '200', 'price': '1900'}, 'POO5': {'productid': 'POO5', 'productname': 'Badminton ', 'quantity': '450', 'price': '500'}, 'POO6': {'productid': 'POO6', 'productname': 'Shuttle cocks', 'quantity': '3000', 'price': '30'}, 'POO7': {'productid': 'POO7', 'productname': 'Hockey', 'quantity': '200', 'price': '1200'}, 'POO8': {'productid': 'POO8', 'productname': 'Football', 'quantity': '1000', 'price': '1500'}, 'POO9': {'productid': 'POO9', 'productname': 'Basketball', 'quantity': '1498', 'price': '2000'}, 'POO10': {'productid': 'POO10', 'productname': 'Padding', 'quantity': '897', 'price': '650'}, 'POO11': {'productid': 'POO11', 'productname': 'Swimming costume', 'quantity': '500', 'price': '700'}, 'POO12': {'productid': 'POO12', 'productname': 'Carrom', 'quantity': '147', 'price': '1000'}}\n",
      "{'OD1001': {'orderid': 'OD1001', 'itemname': 'Bat', 'quantity': '2', 'price': '1000', 'total': '2000'}, 'OD1002': {'orderid': 'OD1002', 'itemname': 'Ball', 'quantity': '4', 'price': '150', 'total': '600'}, 'OD1003': {'orderid': 'OD1003', 'itemname': 'Badminton', 'quantity': '3', 'price': '500', 'total': '1500'}, 'OD1004': {'orderid': 'OD1004', 'itemname': 'Hockey', 'quantity': '6', 'price': '1200', 'total': '7200'}, 'OD1005': {'orderid': 'OD1005', 'itemname': 'Tennis balls', 'quantity': '8', 'price': '100', 'total': '800'}, 'OD1006': {'orderid': 'OD1006', 'itemname': 'Basket ball', 'quantity': '3', 'price': '2000', 'total': '6000'}, 'OD1007': {'orderid': 'OD1007', 'itemname': 'Football', 'quantity': '8', 'price': '1500', 'total': '12000'}, 'OD1008': {'orderid': 'OD1008', 'itemname': 'tennis rackets', 'quantity': '4', 'price': '1900', 'total': '7600'}, 'OD1009': {'orderid': 'OD1009', 'itemname': 'shuttle cock', 'quantity': '6', 'price': '30', 'total': '180'}, '10001': {'orderid': '10001', 'itemname': 'bats', 'quantity': '5', 'price': '1000', 'total': '5000'}, '1002': {'orderid': '1002', 'itemname': 'balls', 'quantity': '5', 'price': '150', 'total': '750'}, '1003': {'orderid': '1003', 'itemname': 'badminton', 'quantity': '3', 'price': '500', 'total': '1500'}, '1004': {'orderid': '1004', 'itemname': 'basketball', 'quantity': '2', 'price': '2000', 'total': '4000'}, '1005': {'orderid': '1005', 'itemname': 'tennis balls', 'quantity': '1', 'price': '100', 'total': '100'}, 'jgbyug': {'orderid': 'jgbyug', 'itemname': 'jhbiun', 'quantity': 'hjbujk', 'price': 'jhvhjb', 'total': 'jbnki'}, '1008': {'orderid': '1008', 'itemname': 'basketball', 'quantity': '3', 'price': '2000', 'total': '6000'}, '1009': {'orderid': '1009', 'itemname': 'Bat', 'quantity': '1', 'price': '1000', 'total': '1000'}, '1010': {'orderid': '1010', 'itemname': 'Carrom', 'quantity': '1', 'price': '1000', 'total': '1000'}, '1011': {'orderid': '1011', 'itemname': 'Padding', 'quantity': '3', 'price': '450', 'total': '1570'}, '1012': {'orderid': '1012', 'itemname': 'Ball', 'quantity': '1', 'price': '150', 'total': '150'}, '1013': {'orderid': '1013', 'itemname': 'Ball', 'quantity': '1', 'price': '150', 'total': '150'}, '1014': {'orderid': '1014', 'itemname': 'Bat', 'quantity': '2', 'price': '1000', 'total': '2000'}, '1015': {'orderid': '1015', 'itemname': 'Carrom', 'quantity': '3', 'price': '1000', 'total': '3000'}, '1016': {'orderid': '1016', 'itemname': 'Ball', 'quantity': '2', 'price': '150', 'total': '300'}, '1017': {'orderid': '1017', 'itemname': 'Bat', 'quantity': '1', 'price': '1000', 'total': '1000'}, '1018': {'orderid': '1018', 'itemname': 'Bat', 'quantity': '3', 'price': '150', 'total': '450'}, '1019': {'orderid': '1019', 'itemname': 'Basketball', 'quantity': '2', 'price': '2000', 'total': '4000'}}\n"
     ]
    }
   ],
   "source": [
    "# def neworders():\n",
    "#     orderid=input(\"enter the orderid\")\n",
    "#     itemname=input(\"enter the item name\")\n",
    "#     quantity=input(\"enter the quantity\")\n",
    "#     price=input(\"enter the quntity\")\n",
    "#     total=input(\"enter the total\")\n",
    "#     return orderid,itemname,quantity,price,total\n",
    "        \n",
    "\n",
    "\n",
    "class Sportmart:\n",
    "    def __init__(self):\n",
    "        self.inventory={}\n",
    "        self.orders={}\n",
    "\n",
    "    def createorder(self,orderid,itemname,quantity,price,total):\n",
    "        temp={\n",
    "            \"orderid\":orderid,\n",
    "            \"itemname\":itemname,\n",
    "            \"quantity\":quantity,\n",
    "            \"price\":price,\n",
    "            \"total\":total\n",
    "        }\n",
    "        self.orders[orderid]=temp\n",
    "    def createinventory(self,productid,productname,quantity,price):\n",
    "        temp={\n",
    "            \"productid\":productid,\n",
    "            \"productname\":productname,\n",
    "            \"quantity\":quantity,\n",
    "            \"price\":price\n",
    "        }\n",
    "        self.inventory[productid]=temp\n",
    "    # def neworder(self):\n",
    "    #     orderid=input(\"enter the orderid\")\n",
    "    #     itemname=input(\"enter the item name\")\n",
    "    #     quantity=input(\"enter the quantity\")\n",
    "    #     price=input(\"enter the quntity\")\n",
    "    #     total=input(\"enter the total\")\n",
    "    #     self.createorder(orderid,itemname,quantity,price,total)\n",
    "\n",
    "    def printorders(self):\n",
    "        print(self.orders)\n",
    "\n",
    "    def printinventory(self):\n",
    "        print(self.inventory)\n",
    "\n",
    "trinity =Sportmart()\n",
    "orders=open(\"customer.csv\",\"r\")\n",
    "orders_header=orders.readline()\n",
    "orders_order=orders.readlines()\n",
    "\n",
    "# trinity.neworder()\n",
    "\n",
    "inventory=open(\"inventory.csv\",\"r\")\n",
    "inventory_header=inventory.readline()\n",
    "inventory_order=inventory.readlines()\n",
    "\n",
    "\n",
    "for item in inventory_order:\n",
    "    temp=item.strip().split(',')\n",
    "    trinity.createinventory(temp[0],temp[1],temp[2],temp[3])\n",
    "trinity.printinventory()\n",
    "\n",
    "\n",
    "for item in orders_order:\n",
    "    temp=item.strip().split(',')\n",
    "    trinity.createorder(temp[0],temp[1],temp[2],temp[3],temp[4])\n",
    "trinity.printorders()\n"
   ]
  },
  {
   "cell_type": "code",
   "execution_count": 3,
   "metadata": {},
   "outputs": [],
   "source": [
    "def neworders():\n",
    "    orderid=input(\"enter the orderid\")\n",
    "    itemname=input(\"enter the item name\").title()\n",
    "    quantity=input(\"enter the quantity\")\n",
    "    price=input(\"enter the quntity\")\n",
    "    total=input(\"enter the total\")\n",
    "    inv=open(\"inventory.csv\",'+w')\n",
    "    for item in trinity.inventory.values():\n",
    "        if item['productname']==itemname:\n",
    "            print(item['quantity'])  \n",
    "            item['quantity']=str(int(item['quantity'])-int(quantity))\n",
    "            print(item['quantity'])  \n",
    "        inv.write(item['productid']+\",\"+item['productname']+\",\"+item['quantity']+\",\"+item['price']+\"\\n\")\n",
    "\n",
    "    file=open(\"customer.csv\",\"+a\")\n",
    "    file.write(orderid+\",\"+itemname+\",\"+quantity+\",\"+price+\",\"+total+\"\\n\")\n",
    "    file.close()\n",
    "    trinity.createorder(orderid,itemname,quantity,price,total)\n",
    "    \n",
    "    \n",
    "\n",
    "\n"
   ]
  },
  {
   "cell_type": "code",
   "execution_count": 4,
   "metadata": {},
   "outputs": [],
   "source": [
    "# for item in trinity.orders[\"OD1002\"].values():\n",
    "#     if item==\"Ball\":\n",
    "#         print(\"yes\")\n",
    "#     else:\n",
    "#         print(\"no\")"
   ]
  },
  {
   "cell_type": "code",
   "execution_count": 5,
   "metadata": {},
   "outputs": [],
   "source": [
    "# with open(\"newfile.csv\",\"w\") as file:\n",
    "#     for item in trinity.orders:\n",
    "#         # print(trinity.orders[item])\n",
    "#         temp = \"\"\n",
    "#         for key in trinity.orders[item]:\n",
    "#             # print(key,trinity.orders[item][key])\n",
    "#             temp+= trinity.orders[item][key]+\",\"\n",
    "#         print(temp)\n",
    "#         file.write(temp[1:]+\"\\n\")"
   ]
  },
  {
   "cell_type": "code",
   "execution_count": 6,
   "metadata": {},
   "outputs": [],
   "source": [
    "# trinity.inventory.values()"
   ]
  },
  {
   "cell_type": "code",
   "execution_count": 7,
   "metadata": {},
   "outputs": [],
   "source": [
    "# for item in trinity.inventory.values():\n",
    "#          print(item['productname'])\n"
   ]
  },
  {
   "cell_type": "code",
   "execution_count": null,
   "metadata": {},
   "outputs": [],
   "source": []
  }
 ],
 "metadata": {
  "kernelspec": {
   "display_name": "Python 3",
   "language": "python",
   "name": "python3"
  },
  "language_info": {
   "codemirror_mode": {
    "name": "ipython",
    "version": 3
   },
   "file_extension": ".py",
   "mimetype": "text/x-python",
   "name": "python",
   "nbconvert_exporter": "python",
   "pygments_lexer": "ipython3",
   "version": "3.11.4"
  }
 },
 "nbformat": 4,
 "nbformat_minor": 2
}
