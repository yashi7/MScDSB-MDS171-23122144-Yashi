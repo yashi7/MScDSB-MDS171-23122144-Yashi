{
 "cells": [
  {
   "cell_type": "code",
   "execution_count": 26,
   "metadata": {},
   "outputs": [],
   "source": [
    "def gsms(name,product,quantity):\n",
    "\n",
    "    file=open(\"GSMS\",\"+a\")\n",
    "    file.write(name+\"\\n\")\n",
    "    file.write(product+\"\\n\")\n",
    "    file.write(quantity+\"\\n\")\n",
    "name=input(\"enter your name\")\n",
    "product=input(\"enter your product\")\n",
    "quantity=input(\"enter the number of item you want\")\n",
    "\n",
    "gsms(name,product,quantity)"
   ]
  },
  {
   "cell_type": "code",
   "execution_count": 27,
   "metadata": {},
   "outputs": [],
   "source": [
    "file=open(\"GSMS\",\"r+\")\n",
    "a=file.readlines()"
   ]
  },
  {
   "cell_type": "code",
   "execution_count": 28,
   "metadata": {},
   "outputs": [
    {
     "data": {
      "text/plain": [
       "['yashi\\n', 'apple\\n', '3\\n', 'harshu\\n', 'banana\\n', '4\\n']"
      ]
     },
     "execution_count": 28,
     "metadata": {},
     "output_type": "execute_result"
    }
   ],
   "source": [
    "a"
   ]
  },
  {
   "cell_type": "code",
   "execution_count": 29,
   "metadata": {},
   "outputs": [],
   "source": [
    "lst=[]\n",
    "counter=1\n",
    "for i in a:\n",
    "    if counter==0:\n",
    "        lst.append(i)\n",
    "        counter=3\n",
    "    counter=counter-1\n",
    "listt=[]\n",
    "count=2\n",
    "for i in a:\n",
    "    if count==0:\n",
    "        listt.append(i)\n",
    "        count=3\n",
    "    count=count-1\n"
   ]
  },
  {
   "cell_type": "code",
   "execution_count": 30,
   "metadata": {},
   "outputs": [
    {
     "data": {
      "text/plain": [
       "['apple\\n', 'banana\\n']"
      ]
     },
     "execution_count": 30,
     "metadata": {},
     "output_type": "execute_result"
    }
   ],
   "source": [
    "lst"
   ]
  },
  {
   "cell_type": "code",
   "execution_count": 31,
   "metadata": {},
   "outputs": [
    {
     "data": {
      "text/plain": [
       "['3\\n', '4\\n']"
      ]
     },
     "execution_count": 31,
     "metadata": {},
     "output_type": "execute_result"
    }
   ],
   "source": [
    "listt"
   ]
  },
  {
   "cell_type": "code",
   "execution_count": 38,
   "metadata": {},
   "outputs": [],
   "source": [
    "quan=[]\n",
    "for i in listt:\n",
    "    b=i.split('\\n')\n",
    "    quan.append(b[0])"
   ]
  },
  {
   "cell_type": "code",
   "execution_count": 39,
   "metadata": {},
   "outputs": [
    {
     "data": {
      "text/plain": [
       "['3', '4']"
      ]
     },
     "execution_count": 39,
     "metadata": {},
     "output_type": "execute_result"
    }
   ],
   "source": [
    "quan\n"
   ]
  },
  {
   "cell_type": "code",
   "execution_count": 40,
   "metadata": {},
   "outputs": [],
   "source": [
    "sum=0\n",
    "for i in quan:\n",
    "    sum=sum+int(i)"
   ]
  },
  {
   "cell_type": "code",
   "execution_count": 41,
   "metadata": {},
   "outputs": [
    {
     "data": {
      "text/plain": [
       "7"
      ]
     },
     "execution_count": 41,
     "metadata": {},
     "output_type": "execute_result"
    }
   ],
   "source": [
    "sum"
   ]
  },
  {
   "cell_type": "code",
   "execution_count": 44,
   "metadata": {},
   "outputs": [
    {
     "name": "stdout",
     "output_type": "stream",
     "text": [
      "3 4\n"
     ]
    }
   ],
   "source": [
    "minval=quan[0]\n",
    "maxval=quan[0]\n",
    "for i in quan:\n",
    "    if i<minval:\n",
    "        minval=i\n",
    "    elif i>maxval:\n",
    "        maxval=i\n",
    "print(minval,maxval)"
   ]
  },
  {
   "cell_type": "code",
   "execution_count": 63,
   "metadata": {},
   "outputs": [
    {
     "name": "stdout",
     "output_type": "stream",
     "text": [
      "a\n",
      "i\n",
      "o\n",
      "e\n",
      "a\n",
      "total: 5\n"
     ]
    }
   ],
   "source": [
    "vowels=\"aeiou\"\n",
    "string=input(\"enter\")\n",
    "\n",
    "def count(string):\n",
    "    count=0\n",
    "    for item in string:\n",
    "        if item in vowels:\n",
    "            print(item)\n",
    "            count=count+1\n",
    "    return(count)\n",
    "\n",
    "total=count(string)\n",
    "print(\"total:\",total)"
   ]
  },
  {
   "cell_type": "code",
   "execution_count": 65,
   "metadata": {},
   "outputs": [
    {
     "name": "stdout",
     "output_type": "stream",
     "text": [
      "'a' occurs 2 times.\n",
      "'e' occurs 1 times.\n",
      "'i' occurs 1 times.\n",
      "'o' occurs 1 times.\n",
      "'u' occurs 0 times.\n"
     ]
    }
   ],
   "source": [
    "def count_vowels(text):\n",
    "    # Convert the input string to lowercase (to handle both uppercase and lowercase vowels)\n",
    "    text = text.lower()\n",
    "\n",
    "    # Initialize variables to store vowel counts\n",
    "    a_count = e_count = i_count = o_count = u_count = 0\n",
    "\n",
    "    # Loop through each character in the string\n",
    "    for char in text:\n",
    "        # Check if the character is a vowel and increment the corresponding count\n",
    "        if char == 'a':\n",
    "            a_count += 1\n",
    "        elif char == 'e':\n",
    "            e_count += 1\n",
    "        elif char == 'i':\n",
    "            i_count += 1\n",
    "        elif char == 'o':\n",
    "            o_count += 1\n",
    "        elif char == 'u':\n",
    "            u_count += 1\n",
    "\n",
    "    return a_count, e_count, i_count, o_count, u_count\n",
    "\n",
    "# Input string\n",
    "text = input(\"enter a string\")\n",
    "\n",
    "# Call the function and store the results in variables\n",
    "a, e, i, o, u = count_vowels(text)\n",
    "\n",
    "# Print the vowel counts\n",
    "print(\"'a' occurs\", a, \"times.\")\n",
    "print(\"'e' occurs\", e, \"times.\")\n",
    "print(\"'i' occurs\", i, \"times.\")\n",
    "print(\"'o' occurs\", o, \"times.\")\n",
    "print(\"'u' occurs\", u, \"times.\")\n"
   ]
  },
  {
   "cell_type": "code",
   "execution_count": 37,
   "metadata": {},
   "outputs": [],
   "source": [
    "import random\n",
    "item=[\"choclates\",\"candy\",\"chips\",\"cookies\",\"juice\"]\n",
    "quantity=[\"2\",\"5\",\"4\",\"7\",\"9\"]\n",
    "price=[\"45\",\"35\",\"20\",\"15\",\"50\"]\n",
    "file=open(\"random\",\"+w\")\n",
    "for i in range(0,100,1):\n",
    "    a=random.randint(0,4)\n",
    "    b =random.randint(0,4)\n",
    "    c=random.randint(0,4)\n",
    "    file.write(item[a]+\",\"+quantity[b]+\",\"+price[c]+\"\\n\")\n",
    "file.close()"
   ]
  },
  {
   "cell_type": "code",
   "execution_count": 38,
   "metadata": {},
   "outputs": [
    {
     "data": {
      "text/plain": [
       "['choclates,5,45\\n',\n",
       " 'choclates,5,15\\n',\n",
       " 'chips,4,35\\n',\n",
       " 'candy,5,35\\n',\n",
       " 'cookies,7,35\\n',\n",
       " 'chips,9,45\\n',\n",
       " 'choclates,5,20\\n',\n",
       " 'juice,2,20\\n',\n",
       " 'cookies,9,35\\n',\n",
       " 'juice,9,50\\n',\n",
       " 'juice,2,35\\n',\n",
       " 'choclates,9,20\\n',\n",
       " 'cookies,9,45\\n',\n",
       " 'candy,4,15\\n',\n",
       " 'juice,4,50\\n',\n",
       " 'candy,5,45\\n',\n",
       " 'cookies,5,45\\n',\n",
       " 'choclates,9,50\\n',\n",
       " 'juice,5,15\\n',\n",
       " 'candy,2,50\\n',\n",
       " 'cookies,2,50\\n',\n",
       " 'chips,4,50\\n',\n",
       " 'juice,9,35\\n',\n",
       " 'juice,2,15\\n',\n",
       " 'juice,4,15\\n',\n",
       " 'juice,4,50\\n',\n",
       " 'cookies,2,35\\n',\n",
       " 'choclates,5,35\\n',\n",
       " 'juice,7,35\\n',\n",
       " 'chips,5,35\\n',\n",
       " 'cookies,4,45\\n',\n",
       " 'chips,9,15\\n',\n",
       " 'chips,7,50\\n',\n",
       " 'cookies,2,50\\n',\n",
       " 'chips,4,45\\n',\n",
       " 'choclates,2,20\\n',\n",
       " 'chips,7,15\\n',\n",
       " 'juice,9,20\\n',\n",
       " 'chips,7,20\\n',\n",
       " 'candy,5,15\\n',\n",
       " 'choclates,7,15\\n',\n",
       " 'candy,2,45\\n',\n",
       " 'choclates,7,20\\n',\n",
       " 'choclates,4,15\\n',\n",
       " 'candy,2,20\\n',\n",
       " 'choclates,9,45\\n',\n",
       " 'cookies,7,45\\n',\n",
       " 'cookies,4,35\\n',\n",
       " 'candy,7,15\\n',\n",
       " 'chips,4,15\\n',\n",
       " 'juice,9,35\\n',\n",
       " 'cookies,7,50\\n',\n",
       " 'choclates,2,20\\n',\n",
       " 'juice,5,15\\n',\n",
       " 'choclates,4,45\\n',\n",
       " 'choclates,4,50\\n',\n",
       " 'candy,5,35\\n',\n",
       " 'chips,9,20\\n',\n",
       " 'choclates,4,35\\n',\n",
       " 'chips,7,45\\n',\n",
       " 'cookies,4,15\\n',\n",
       " 'chips,5,15\\n',\n",
       " 'chips,4,15\\n',\n",
       " 'candy,7,20\\n',\n",
       " 'chips,5,15\\n',\n",
       " 'juice,4,50\\n',\n",
       " 'chips,7,20\\n',\n",
       " 'cookies,4,45\\n',\n",
       " 'chips,5,50\\n',\n",
       " 'candy,9,45\\n',\n",
       " 'chips,4,35\\n',\n",
       " 'juice,7,35\\n',\n",
       " 'choclates,4,45\\n',\n",
       " 'chips,4,15\\n',\n",
       " 'chips,9,45\\n',\n",
       " 'juice,9,15\\n',\n",
       " 'choclates,4,50\\n',\n",
       " 'juice,5,20\\n',\n",
       " 'juice,7,50\\n',\n",
       " 'juice,2,15\\n',\n",
       " 'choclates,4,15\\n',\n",
       " 'candy,2,15\\n',\n",
       " 'candy,4,45\\n',\n",
       " 'chips,4,50\\n',\n",
       " 'candy,9,45\\n',\n",
       " 'juice,4,35\\n',\n",
       " 'cookies,9,50\\n',\n",
       " 'choclates,2,50\\n',\n",
       " 'chips,4,15\\n',\n",
       " 'choclates,4,15\\n',\n",
       " 'cookies,2,50\\n',\n",
       " 'candy,7,50\\n',\n",
       " 'candy,9,35\\n',\n",
       " 'juice,4,50\\n',\n",
       " 'juice,2,20\\n',\n",
       " 'candy,5,15\\n',\n",
       " 'choclates,2,20\\n',\n",
       " 'choclates,9,20\\n',\n",
       " 'candy,7,45\\n',\n",
       " 'cookies,4,45\\n']"
      ]
     },
     "execution_count": 38,
     "metadata": {},
     "output_type": "execute_result"
    }
   ],
   "source": [
    "file=open(\"random\",\"+r\")\n",
    "read=file.readlines()\n",
    "read"
   ]
  },
  {
   "cell_type": "code",
   "execution_count": 57,
   "metadata": {},
   "outputs": [],
   "source": [
    "amt=[]\n",
    "for i in read:\n",
    "    s=i.split(\",\")\n",
    "    amt.append(s[2])"
   ]
  },
  {
   "cell_type": "code",
   "execution_count": 58,
   "metadata": {},
   "outputs": [],
   "source": [
    "quan=[]\n",
    "for i in read:\n",
    "    s=i.split(\",\")\n",
    "    quan.append(s[1])\n"
   ]
  },
  {
   "cell_type": "code",
   "execution_count": 59,
   "metadata": {},
   "outputs": [],
   "source": [
    "PRICE=[]\n",
    "for i in amt:\n",
    "    z=i.split('\\n')\n",
    "    PRICE.append(z[0])\n",
    "\n"
   ]
  },
  {
   "cell_type": "code",
   "execution_count": 64,
   "metadata": {},
   "outputs": [],
   "source": [
    "total=[]\n",
    "for i in quan:\n",
    "    t=int(quan[int(i)])*int(PRICE[int(i)])\n",
    "    total.append(t)\n"
   ]
  },
  {
   "cell_type": "code",
   "execution_count": 65,
   "metadata": {},
   "outputs": [
    {
     "data": {
      "text/plain": [
       "[405,\n",
       " 405,\n",
       " 245,\n",
       " 405,\n",
       " 40,\n",
       " 450,\n",
       " 405,\n",
       " 140,\n",
       " 450,\n",
       " 450,\n",
       " 140,\n",
       " 450,\n",
       " 450,\n",
       " 245,\n",
       " 245,\n",
       " 405,\n",
       " 405,\n",
       " 450,\n",
       " 405,\n",
       " 140,\n",
       " 140,\n",
       " 245,\n",
       " 450,\n",
       " 140,\n",
       " 245,\n",
       " 245,\n",
       " 140,\n",
       " 405,\n",
       " 40,\n",
       " 405,\n",
       " 245,\n",
       " 450,\n",
       " 40,\n",
       " 140,\n",
       " 245,\n",
       " 140,\n",
       " 40,\n",
       " 450,\n",
       " 40,\n",
       " 405,\n",
       " 40,\n",
       " 140,\n",
       " 40,\n",
       " 245,\n",
       " 140,\n",
       " 450,\n",
       " 40,\n",
       " 245,\n",
       " 40,\n",
       " 245,\n",
       " 450,\n",
       " 40,\n",
       " 140,\n",
       " 405,\n",
       " 245,\n",
       " 245,\n",
       " 405,\n",
       " 450,\n",
       " 245,\n",
       " 40,\n",
       " 245,\n",
       " 405,\n",
       " 245,\n",
       " 40,\n",
       " 405,\n",
       " 245,\n",
       " 40,\n",
       " 245,\n",
       " 405,\n",
       " 450,\n",
       " 245,\n",
       " 40,\n",
       " 245,\n",
       " 245,\n",
       " 450,\n",
       " 450,\n",
       " 245,\n",
       " 405,\n",
       " 40,\n",
       " 140,\n",
       " 245,\n",
       " 140,\n",
       " 245,\n",
       " 245,\n",
       " 450,\n",
       " 245,\n",
       " 450,\n",
       " 140,\n",
       " 245,\n",
       " 245,\n",
       " 140,\n",
       " 40,\n",
       " 450,\n",
       " 245,\n",
       " 140,\n",
       " 405,\n",
       " 140,\n",
       " 450,\n",
       " 40,\n",
       " 245]"
      ]
     },
     "execution_count": 65,
     "metadata": {},
     "output_type": "execute_result"
    }
   ],
   "source": [
    "total"
   ]
  },
  {
   "cell_type": "code",
   "execution_count": 73,
   "metadata": {},
   "outputs": [],
   "source": [
    "t_quan=0\n",
    "for i in quan:\n",
    "    t_quan=t_quan+int(i)"
   ]
  },
  {
   "cell_type": "code",
   "execution_count": 76,
   "metadata": {},
   "outputs": [
    {
     "data": {
      "text/plain": [
       "3275"
      ]
     },
     "execution_count": 76,
     "metadata": {},
     "output_type": "execute_result"
    }
   ],
   "source": [
    "t_price=0\n",
    "for i in PRICE:\n",
    "    t_price=t_price+int(i)\n",
    "t_price"
   ]
  },
  {
   "cell_type": "code",
   "execution_count": 77,
   "metadata": {},
   "outputs": [
    {
     "name": "stdout",
     "output_type": "stream",
     "text": [
      "choclates,5,45\n",
      "\n",
      "choclates,5,15\n",
      "\n",
      "chips,4,35\n",
      "\n",
      "candy,5,35\n",
      "\n",
      "cookies,7,35\n",
      "\n"
     ]
    }
   ],
   "source": [
    "d=0\n",
    "for i in read:\n",
    "    d=d+1\n",
    "    if d<6:\n",
    "        print(i)"
   ]
  },
  {
   "cell_type": "code",
   "execution_count": 79,
   "metadata": {},
   "outputs": [
    {
     "name": "stdout",
     "output_type": "stream",
     "text": [
      "cookies,2,50\n",
      "\n",
      "candy,7,50\n",
      "\n",
      "candy,9,35\n",
      "\n",
      "juice,4,50\n",
      "\n",
      "juice,2,20\n",
      "\n",
      "candy,5,15\n",
      "\n",
      "choclates,2,20\n",
      "\n",
      "choclates,9,20\n",
      "\n",
      "candy,7,45\n",
      "\n",
      "cookies,4,45\n",
      "\n"
     ]
    }
   ],
   "source": [
    "x=0\n",
    "for i in read:\n",
    "    x=x+1\n",
    "    if x>90:\n",
    "        print(i)"
   ]
  },
  {
   "cell_type": "code",
   "execution_count": null,
   "metadata": {},
   "outputs": [],
   "source": []
  }
 ],
 "metadata": {
  "kernelspec": {
   "display_name": "Python 3",
   "language": "python",
   "name": "python3"
  },
  "language_info": {
   "codemirror_mode": {
    "name": "ipython",
    "version": 3
   },
   "file_extension": ".py",
   "mimetype": "text/x-python",
   "name": "python",
   "nbconvert_exporter": "python",
   "pygments_lexer": "ipython3",
   "version": "3.11.4"
  },
  "orig_nbformat": 4
 },
 "nbformat": 4,
 "nbformat_minor": 2
}
