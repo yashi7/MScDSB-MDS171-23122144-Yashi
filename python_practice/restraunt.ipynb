{
 "cells": [
  {
   "cell_type": "code",
   "execution_count": 21,
   "metadata": {},
   "outputs": [],
   "source": [
    "#restraunt\n",
    "#customers -> orders (Menu items)\n",
    "#collecting orders\n",
    "#print bill\n",
    "#update order\n",
    "#search for an order\n",
    "import random\n",
    "class restraunt:\n",
    "    def __init__(self):\n",
    "        self.menu={\n",
    "            \"rice\":30,\n",
    "            \"idli\":10,\n",
    "        }\n",
    "        #orderid:{set of order details}\n",
    "        self.orders={}\n",
    "    def printmenu(self):\n",
    "        print(\"*\"*30)\n",
    "        print(\"the current options in the menu are:\")\n",
    "        print(\"*\"*30)\n",
    "        print(self.menu)\n",
    "        print(\"*\"*30)\n",
    "\n",
    "    def generateorderid(self):\n",
    "        orderid=\"\"\n",
    "        for i in range(1,6,1):\n",
    "            orderid+=str(random.randint(i,10))\n",
    "        return int(orderid)\n",
    "    def collectorder(self):\n",
    "        self.printmenu()  #print menu\n",
    "        phone=input(\"enter customer phone number:\")\n",
    "        order={}\n",
    "        while True:\n",
    "            item=input(\"enter the item name you want to order:\").strip().title()\n",
    "            global qty\n",
    "            qty=int(input(\"enter the quantity of item :\"))\n",
    "            order[item]=qty\n",
    "            choice=input(\"do you want to complete order? 'Y\").strip().upper()\n",
    "            if choice=='Y':\n",
    "                break\n",
    "        orderid=self.generateorderid()\n",
    "        self.orders[orderid]={\n",
    "            \"phone\":phone,\n",
    "            \"order\":order\n",
    "        }\n",
    "        print(self.orders)\n",
    "    def billingorder(self):\n",
    "        for orderid in self.orders:\n",
    "            print(self.orders[orderid]['order'])\n",
    "            for orderid in self.order[orderid]:\n",
    "                print(self.menu[self.orders[orderid]].values()) \n",
    "        #ask user to enter the value\n",
    "        # collect the Value\n",
    "        # update the order\n",
    "        "
   ]
  },
  {
   "cell_type": "code",
   "execution_count": 22,
   "metadata": {},
   "outputs": [],
   "source": [
    "cftb=restraunt()"
   ]
  },
  {
   "cell_type": "code",
   "execution_count": 23,
   "metadata": {},
   "outputs": [
    {
     "name": "stdout",
     "output_type": "stream",
     "text": [
      "******************************\n",
      "the current options in the menu are:\n",
      "******************************\n",
      "{'rice': 30, 'idli': 10}\n",
      "******************************\n",
      "{25365: {'phone': '876765788', 'order': {'Idli': 5}}}\n"
     ]
    }
   ],
   "source": [
    "cftb.collectorder()"
   ]
  },
  {
   "cell_type": "code",
   "execution_count": 58,
   "metadata": {},
   "outputs": [
    {
     "name": "stdout",
     "output_type": "stream",
     "text": [
      "296\n"
     ]
    }
   ],
   "source": [
    "# orderid=\"\"\n",
    "# for i in range(1,4,1):\n",
    "#     orderid+=str(random.randint(1,9))\n",
    "# print(orderid)\n",
    "        "
   ]
  },
  {
   "cell_type": "code",
   "execution_count": 24,
   "metadata": {},
   "outputs": [
    {
     "name": "stdout",
     "output_type": "stream",
     "text": [
      "{25365: {'phone': '876765788', 'order': {'Idli': 5}}}\n"
     ]
    }
   ],
   "source": [
    "print(cftb.orders)"
   ]
  },
  {
   "cell_type": "code",
   "execution_count": 25,
   "metadata": {},
   "outputs": [
    {
     "name": "stdout",
     "output_type": "stream",
     "text": [
      "{'Idli': 5}\n"
     ]
    },
    {
     "ename": "AttributeError",
     "evalue": "'restraunt' object has no attribute 'order'",
     "output_type": "error",
     "traceback": [
      "\u001b[1;31m---------------------------------------------------------------------------\u001b[0m",
      "\u001b[1;31mAttributeError\u001b[0m                            Traceback (most recent call last)",
      "\u001b[1;32mc:\\Users\\yashi\\python\\restraunt.ipynb Cell 6\u001b[0m line \u001b[0;36m1\n\u001b[1;32m----> <a href='vscode-notebook-cell:/c%3A/Users/yashi/python/restraunt.ipynb#W5sZmlsZQ%3D%3D?line=0'>1</a>\u001b[0m cftb\u001b[39m.\u001b[39;49mbillingorder()\n",
      "\u001b[1;32mc:\\Users\\yashi\\python\\restraunt.ipynb Cell 6\u001b[0m line \u001b[0;36m4\n\u001b[0;32m     <a href='vscode-notebook-cell:/c%3A/Users/yashi/python/restraunt.ipynb#W5sZmlsZQ%3D%3D?line=46'>47</a>\u001b[0m \u001b[39mfor\u001b[39;00m orderid \u001b[39min\u001b[39;00m \u001b[39mself\u001b[39m\u001b[39m.\u001b[39morders:\n\u001b[0;32m     <a href='vscode-notebook-cell:/c%3A/Users/yashi/python/restraunt.ipynb#W5sZmlsZQ%3D%3D?line=47'>48</a>\u001b[0m     \u001b[39mprint\u001b[39m(\u001b[39mself\u001b[39m\u001b[39m.\u001b[39morders[orderid][\u001b[39m'\u001b[39m\u001b[39morder\u001b[39m\u001b[39m'\u001b[39m])\n\u001b[1;32m---> <a href='vscode-notebook-cell:/c%3A/Users/yashi/python/restraunt.ipynb#W5sZmlsZQ%3D%3D?line=48'>49</a>\u001b[0m     \u001b[39mfor\u001b[39;00m orderid \u001b[39min\u001b[39;00m \u001b[39mself\u001b[39;49m\u001b[39m.\u001b[39;49morder[orderid]:\n\u001b[0;32m     <a href='vscode-notebook-cell:/c%3A/Users/yashi/python/restraunt.ipynb#W5sZmlsZQ%3D%3D?line=49'>50</a>\u001b[0m         \u001b[39mprint\u001b[39m(\u001b[39mself\u001b[39m\u001b[39m.\u001b[39mmenu[\u001b[39mself\u001b[39m\u001b[39m.\u001b[39morders[orderid]]\u001b[39m.\u001b[39mvalues())\n",
      "\u001b[1;31mAttributeError\u001b[0m: 'restraunt' object has no attribute 'order'"
     ]
    }
   ],
   "source": [
    "cftb.billingorder()"
   ]
  },
  {
   "cell_type": "code",
   "execution_count": 94,
   "metadata": {},
   "outputs": [],
   "source": [
    "orders = {'910659': {'phone': '7890013592', 'order': {'Rice': 5}}, '25886': {'phone': '876879879879', 'order': {'Rice': 3, 'Idli': 4}}, '75579': {'phone': '89687675', 'order': {'Rice': 3}}, '32959': {'phone': '87655476', 'order': {'Idli': 3}}}\n",
    "menu ={\n",
    "            \"rice\":30,\n",
    "            \"idli\":10,\n",
    "        }"
   ]
  },
  {
   "cell_type": "code",
   "execution_count": 97,
   "metadata": {},
   "outputs": [
    {
     "name": "stdout",
     "output_type": "stream",
     "text": [
      "{'Rice': 5}\n",
      "{'Rice': 3, 'Idli': 4}\n",
      "{'Rice': 3}\n",
      "{'Idli': 3}\n"
     ]
    }
   ],
   "source": [
    "for item in orders:\n",
    "    print(orders[item]['order'])"
   ]
  },
  {
   "cell_type": "code",
   "execution_count": null,
   "metadata": {},
   "outputs": [],
   "source": []
  }
 ],
 "metadata": {
  "kernelspec": {
   "display_name": "Python 3",
   "language": "python",
   "name": "python3"
  },
  "language_info": {
   "codemirror_mode": {
    "name": "ipython",
    "version": 3
   },
   "file_extension": ".py",
   "mimetype": "text/x-python",
   "name": "python",
   "nbconvert_exporter": "python",
   "pygments_lexer": "ipython3",
   "version": "3.11.4"
  }
 },
 "nbformat": 4,
 "nbformat_minor": 2
}
