{
 "cells": [
  {
   "cell_type": "code",
   "execution_count": null,
   "metadata": {},
   "outputs": [],
   "source": [
    "# write a python program with the following specifications\n",
    "# there will be a function named create dataset which will take a dictionary ,filename and number of rows as arguments\n",
    "# the dictionary is having the following structure:\n",
    "# {\n",
    "#     \"colname\":[domain of values]\n",
    "# }\n",
    "# your function will select random values from each of the domain and create a row for you\n",
    "# the number of rows that has to be created is the parameter \n",
    "# save the file with the number of rows\n",
    "# load this dataset using pandas and display basic information "
   ]
  },
  {
   "cell_type": "code",
   "execution_count": 1,
   "metadata": {},
   "outputs": [],
   "source": [
    "my_dict={\n",
    "    \"name\":[\"yashi\",\"saara\",\"vishi\",\"divya\",\"arshia\",\"lily\"],\n",
    "    \"id\":[\"121\",\"122\",\"123\",\"124\",\"125\",\"126\"],\n",
    "    \"age\":[\"21\",\"23\",\"20\",\"22\",\"24\",\"25\"],\n",
    "    \"city\":[\"delhi\",\"chennai\",\"meerut\",\"pune\",\"banglore\",\"mumbai\"],\n",
    "    \"expense\":[\"10000\",\"2500\",\"4000\",\"8500\",\"6000\",\"3550\"],\n",
    "    \"rating\":[\"0\",\"1\",\"2\",\"3\",\"4\",\"5\"]\n",
    "}\n",
    "\n"
   ]
  },
  {
   "cell_type": "code",
   "execution_count": 20,
   "metadata": {},
   "outputs": [
    {
     "name": "stdout",
     "output_type": "stream",
     "text": [
      "yashi\n",
      "saara\n",
      "vishi\n",
      "divya\n",
      "arshia\n",
      "lily\n",
      "----------\n",
      "121\n",
      "122\n",
      "123\n",
      "124\n",
      "125\n",
      "126\n",
      "----------\n",
      "21\n",
      "23\n",
      "20\n",
      "22\n",
      "24\n",
      "25\n",
      "----------\n",
      "delhi\n",
      "chennai\n",
      "meerut\n",
      "pune\n",
      "banglore\n",
      "mumbai\n",
      "----------\n",
      "10000\n",
      "2500\n",
      "4000\n",
      "8500\n",
      "6000\n",
      "3550\n",
      "----------\n",
      "0\n",
      "1\n",
      "2\n",
      "3\n",
      "4\n",
      "5\n",
      "----------\n"
     ]
    }
   ],
   "source": [
    "# for item in my_dict:\n",
    "#     for i in my_dict[item]:\n",
    "#         print(i)\n",
    "#     print(\"-\"*10)"
   ]
  },
  {
   "cell_type": "code",
   "execution_count": 46,
   "metadata": {},
   "outputs": [
    {
     "data": {
      "text/plain": [
       "['lily',\n",
       " 'lily',\n",
       " 'lily',\n",
       " 'vishi',\n",
       " 'vishi',\n",
       " 'divya',\n",
       " 'divya',\n",
       " 'lily',\n",
       " 'divya',\n",
       " 'lily']"
      ]
     },
     "execution_count": 46,
     "metadata": {},
     "output_type": "execute_result"
    }
   ],
   "source": [
    "# import random\n",
    "# a=[]\n",
    "# # print(my_dict)\n",
    "# for i in range(0,10):\n",
    "    \n",
    "    \n",
    "# for i in my_dict:\n",
    "#     print(i)\n",
    "#     a.append(random.choice(my_dict[i]))"
   ]
  },
  {
   "cell_type": "code",
   "execution_count": 30,
   "metadata": {},
   "outputs": [
    {
     "data": {
      "text/plain": [
       "{'name': ['yashi', 'saara', 'vishi', 'divya', 'arshia', 'lily'],\n",
       " 'id': ['121', '122', '123', '124', '125', '126'],\n",
       " 'age': ['21', '23', '20', '22', '24', '25'],\n",
       " 'city': ['delhi', 'chennai', 'meerut', 'pune', 'banglore', 'mumbai'],\n",
       " 'expense': ['10000', '2500', '4000', '8500', '6000', '3550'],\n",
       " 'rating': ['0', '1', '2', '3', '4', '5']}"
      ]
     },
     "execution_count": 30,
     "metadata": {},
     "output_type": "execute_result"
    }
   ],
   "source": [
    "# my_dict"
   ]
  },
  {
   "cell_type": "code",
   "execution_count": 55,
   "metadata": {},
   "outputs": [],
   "source": [
    "import random\n",
    "\n",
    "def dataset(my_dict,filename,rows):\n",
    "    \n",
    "    file=open(filename,\"w+\")\n",
    "    file.write(\"NAME,ID,AGE,CITY,EXPENSE,RATING\\n\")\n",
    "    for i in range(0,rows,1):\n",
    "        a=random.choice(my_dict['name'])\n",
    "        b=random.choice(my_dict['id'])\n",
    "        c=random.choice(my_dict['age'])\n",
    "        d=random.choice(my_dict['city'])\n",
    "        e=random.choice(my_dict['expense'])\n",
    "        f=random.choice(my_dict['rating'])      \n",
    "        file.write(a+\",\"+b+\",\"+c+\",\"+d+\",\"+e+\",\"+f+ \"\\n\")\n",
    "    file.close()"
   ]
  },
  {
   "cell_type": "code",
   "execution_count": 56,
   "metadata": {},
   "outputs": [],
   "source": [
    "dataset(my_dict,\"data.csv\",50)"
   ]
  },
  {
   "cell_type": "code",
   "execution_count": 1,
   "metadata": {},
   "outputs": [],
   "source": [
    "import pandas as pd"
   ]
  },
  {
   "cell_type": "code",
   "execution_count": 3,
   "metadata": {},
   "outputs": [],
   "source": [
    "data=pd.read_csv(\"data.csv\")"
   ]
  },
  {
   "cell_type": "code",
   "execution_count": 4,
   "metadata": {},
   "outputs": [
    {
     "data": {
      "text/html": [
       "<div>\n",
       "<style scoped>\n",
       "    .dataframe tbody tr th:only-of-type {\n",
       "        vertical-align: middle;\n",
       "    }\n",
       "\n",
       "    .dataframe tbody tr th {\n",
       "        vertical-align: top;\n",
       "    }\n",
       "\n",
       "    .dataframe thead th {\n",
       "        text-align: right;\n",
       "    }\n",
       "</style>\n",
       "<table border=\"1\" class=\"dataframe\">\n",
       "  <thead>\n",
       "    <tr style=\"text-align: right;\">\n",
       "      <th></th>\n",
       "      <th>NAME</th>\n",
       "      <th>ID</th>\n",
       "      <th>AGE</th>\n",
       "      <th>CITY</th>\n",
       "      <th>EXPENSE</th>\n",
       "      <th>RATING</th>\n",
       "    </tr>\n",
       "  </thead>\n",
       "  <tbody>\n",
       "    <tr>\n",
       "      <th>0</th>\n",
       "      <td>vishi</td>\n",
       "      <td>123</td>\n",
       "      <td>22</td>\n",
       "      <td>pune</td>\n",
       "      <td>10000</td>\n",
       "      <td>2</td>\n",
       "    </tr>\n",
       "    <tr>\n",
       "      <th>1</th>\n",
       "      <td>lily</td>\n",
       "      <td>123</td>\n",
       "      <td>25</td>\n",
       "      <td>meerut</td>\n",
       "      <td>8500</td>\n",
       "      <td>5</td>\n",
       "    </tr>\n",
       "    <tr>\n",
       "      <th>2</th>\n",
       "      <td>yashi</td>\n",
       "      <td>125</td>\n",
       "      <td>24</td>\n",
       "      <td>banglore</td>\n",
       "      <td>2500</td>\n",
       "      <td>3</td>\n",
       "    </tr>\n",
       "    <tr>\n",
       "      <th>3</th>\n",
       "      <td>yashi</td>\n",
       "      <td>126</td>\n",
       "      <td>20</td>\n",
       "      <td>chennai</td>\n",
       "      <td>10000</td>\n",
       "      <td>4</td>\n",
       "    </tr>\n",
       "    <tr>\n",
       "      <th>4</th>\n",
       "      <td>yashi</td>\n",
       "      <td>125</td>\n",
       "      <td>21</td>\n",
       "      <td>meerut</td>\n",
       "      <td>6000</td>\n",
       "      <td>5</td>\n",
       "    </tr>\n",
       "    <tr>\n",
       "      <th>5</th>\n",
       "      <td>yashi</td>\n",
       "      <td>121</td>\n",
       "      <td>22</td>\n",
       "      <td>pune</td>\n",
       "      <td>2500</td>\n",
       "      <td>1</td>\n",
       "    </tr>\n",
       "    <tr>\n",
       "      <th>6</th>\n",
       "      <td>divya</td>\n",
       "      <td>125</td>\n",
       "      <td>21</td>\n",
       "      <td>mumbai</td>\n",
       "      <td>10000</td>\n",
       "      <td>5</td>\n",
       "    </tr>\n",
       "    <tr>\n",
       "      <th>7</th>\n",
       "      <td>divya</td>\n",
       "      <td>123</td>\n",
       "      <td>22</td>\n",
       "      <td>chennai</td>\n",
       "      <td>6000</td>\n",
       "      <td>2</td>\n",
       "    </tr>\n",
       "    <tr>\n",
       "      <th>8</th>\n",
       "      <td>lily</td>\n",
       "      <td>126</td>\n",
       "      <td>21</td>\n",
       "      <td>mumbai</td>\n",
       "      <td>4000</td>\n",
       "      <td>5</td>\n",
       "    </tr>\n",
       "    <tr>\n",
       "      <th>9</th>\n",
       "      <td>lily</td>\n",
       "      <td>121</td>\n",
       "      <td>23</td>\n",
       "      <td>mumbai</td>\n",
       "      <td>3550</td>\n",
       "      <td>0</td>\n",
       "    </tr>\n",
       "  </tbody>\n",
       "</table>\n",
       "</div>"
      ],
      "text/plain": [
       "    NAME   ID  AGE      CITY  EXPENSE  RATING\n",
       "0  vishi  123   22      pune    10000       2\n",
       "1   lily  123   25    meerut     8500       5\n",
       "2  yashi  125   24  banglore     2500       3\n",
       "3  yashi  126   20   chennai    10000       4\n",
       "4  yashi  125   21    meerut     6000       5\n",
       "5  yashi  121   22      pune     2500       1\n",
       "6  divya  125   21    mumbai    10000       5\n",
       "7  divya  123   22   chennai     6000       2\n",
       "8   lily  126   21    mumbai     4000       5\n",
       "9   lily  121   23    mumbai     3550       0"
      ]
     },
     "execution_count": 4,
     "metadata": {},
     "output_type": "execute_result"
    }
   ],
   "source": [
    "data.head(10)"
   ]
  },
  {
   "cell_type": "code",
   "execution_count": 5,
   "metadata": {},
   "outputs": [
    {
     "data": {
      "text/html": [
       "<div>\n",
       "<style scoped>\n",
       "    .dataframe tbody tr th:only-of-type {\n",
       "        vertical-align: middle;\n",
       "    }\n",
       "\n",
       "    .dataframe tbody tr th {\n",
       "        vertical-align: top;\n",
       "    }\n",
       "\n",
       "    .dataframe thead th {\n",
       "        text-align: right;\n",
       "    }\n",
       "</style>\n",
       "<table border=\"1\" class=\"dataframe\">\n",
       "  <thead>\n",
       "    <tr style=\"text-align: right;\">\n",
       "      <th></th>\n",
       "      <th>NAME</th>\n",
       "      <th>ID</th>\n",
       "      <th>AGE</th>\n",
       "      <th>CITY</th>\n",
       "      <th>EXPENSE</th>\n",
       "      <th>RATING</th>\n",
       "    </tr>\n",
       "  </thead>\n",
       "  <tbody>\n",
       "    <tr>\n",
       "      <th>40</th>\n",
       "      <td>divya</td>\n",
       "      <td>126</td>\n",
       "      <td>22</td>\n",
       "      <td>banglore</td>\n",
       "      <td>8500</td>\n",
       "      <td>2</td>\n",
       "    </tr>\n",
       "    <tr>\n",
       "      <th>41</th>\n",
       "      <td>divya</td>\n",
       "      <td>122</td>\n",
       "      <td>23</td>\n",
       "      <td>delhi</td>\n",
       "      <td>2500</td>\n",
       "      <td>5</td>\n",
       "    </tr>\n",
       "    <tr>\n",
       "      <th>42</th>\n",
       "      <td>yashi</td>\n",
       "      <td>123</td>\n",
       "      <td>22</td>\n",
       "      <td>delhi</td>\n",
       "      <td>2500</td>\n",
       "      <td>3</td>\n",
       "    </tr>\n",
       "    <tr>\n",
       "      <th>43</th>\n",
       "      <td>divya</td>\n",
       "      <td>125</td>\n",
       "      <td>25</td>\n",
       "      <td>mumbai</td>\n",
       "      <td>6000</td>\n",
       "      <td>4</td>\n",
       "    </tr>\n",
       "    <tr>\n",
       "      <th>44</th>\n",
       "      <td>divya</td>\n",
       "      <td>123</td>\n",
       "      <td>24</td>\n",
       "      <td>banglore</td>\n",
       "      <td>2500</td>\n",
       "      <td>1</td>\n",
       "    </tr>\n",
       "    <tr>\n",
       "      <th>45</th>\n",
       "      <td>saara</td>\n",
       "      <td>123</td>\n",
       "      <td>21</td>\n",
       "      <td>banglore</td>\n",
       "      <td>8500</td>\n",
       "      <td>4</td>\n",
       "    </tr>\n",
       "    <tr>\n",
       "      <th>46</th>\n",
       "      <td>vishi</td>\n",
       "      <td>123</td>\n",
       "      <td>24</td>\n",
       "      <td>delhi</td>\n",
       "      <td>10000</td>\n",
       "      <td>0</td>\n",
       "    </tr>\n",
       "    <tr>\n",
       "      <th>47</th>\n",
       "      <td>vishi</td>\n",
       "      <td>123</td>\n",
       "      <td>20</td>\n",
       "      <td>mumbai</td>\n",
       "      <td>4000</td>\n",
       "      <td>1</td>\n",
       "    </tr>\n",
       "    <tr>\n",
       "      <th>48</th>\n",
       "      <td>vishi</td>\n",
       "      <td>125</td>\n",
       "      <td>23</td>\n",
       "      <td>banglore</td>\n",
       "      <td>4000</td>\n",
       "      <td>2</td>\n",
       "    </tr>\n",
       "    <tr>\n",
       "      <th>49</th>\n",
       "      <td>lily</td>\n",
       "      <td>121</td>\n",
       "      <td>24</td>\n",
       "      <td>mumbai</td>\n",
       "      <td>3550</td>\n",
       "      <td>0</td>\n",
       "    </tr>\n",
       "  </tbody>\n",
       "</table>\n",
       "</div>"
      ],
      "text/plain": [
       "     NAME   ID  AGE      CITY  EXPENSE  RATING\n",
       "40  divya  126   22  banglore     8500       2\n",
       "41  divya  122   23     delhi     2500       5\n",
       "42  yashi  123   22     delhi     2500       3\n",
       "43  divya  125   25    mumbai     6000       4\n",
       "44  divya  123   24  banglore     2500       1\n",
       "45  saara  123   21  banglore     8500       4\n",
       "46  vishi  123   24     delhi    10000       0\n",
       "47  vishi  123   20    mumbai     4000       1\n",
       "48  vishi  125   23  banglore     4000       2\n",
       "49   lily  121   24    mumbai     3550       0"
      ]
     },
     "execution_count": 5,
     "metadata": {},
     "output_type": "execute_result"
    }
   ],
   "source": [
    "data.tail(10)"
   ]
  },
  {
   "cell_type": "code",
   "execution_count": 6,
   "metadata": {},
   "outputs": [
    {
     "name": "stdout",
     "output_type": "stream",
     "text": [
      "<class 'pandas.core.frame.DataFrame'>\n",
      "RangeIndex: 50 entries, 0 to 49\n",
      "Data columns (total 6 columns):\n",
      " #   Column   Non-Null Count  Dtype \n",
      "---  ------   --------------  ----- \n",
      " 0   NAME     50 non-null     object\n",
      " 1   ID       50 non-null     int64 \n",
      " 2   AGE      50 non-null     int64 \n",
      " 3   CITY     50 non-null     object\n",
      " 4   EXPENSE  50 non-null     int64 \n",
      " 5   RATING   50 non-null     int64 \n",
      "dtypes: int64(4), object(2)\n",
      "memory usage: 2.5+ KB\n"
     ]
    }
   ],
   "source": [
    "data.info()"
   ]
  },
  {
   "cell_type": "code",
   "execution_count": 7,
   "metadata": {},
   "outputs": [
    {
     "data": {
      "text/html": [
       "<div>\n",
       "<style scoped>\n",
       "    .dataframe tbody tr th:only-of-type {\n",
       "        vertical-align: middle;\n",
       "    }\n",
       "\n",
       "    .dataframe tbody tr th {\n",
       "        vertical-align: top;\n",
       "    }\n",
       "\n",
       "    .dataframe thead th {\n",
       "        text-align: right;\n",
       "    }\n",
       "</style>\n",
       "<table border=\"1\" class=\"dataframe\">\n",
       "  <thead>\n",
       "    <tr style=\"text-align: right;\">\n",
       "      <th></th>\n",
       "      <th>ID</th>\n",
       "      <th>AGE</th>\n",
       "      <th>EXPENSE</th>\n",
       "      <th>RATING</th>\n",
       "    </tr>\n",
       "  </thead>\n",
       "  <tbody>\n",
       "    <tr>\n",
       "      <th>count</th>\n",
       "      <td>50.000000</td>\n",
       "      <td>50.000000</td>\n",
       "      <td>50.000000</td>\n",
       "      <td>50.000000</td>\n",
       "    </tr>\n",
       "    <tr>\n",
       "      <th>mean</th>\n",
       "      <td>123.260000</td>\n",
       "      <td>22.300000</td>\n",
       "      <td>5977.000000</td>\n",
       "      <td>2.500000</td>\n",
       "    </tr>\n",
       "    <tr>\n",
       "      <th>std</th>\n",
       "      <td>1.804869</td>\n",
       "      <td>1.693324</td>\n",
       "      <td>2691.600882</td>\n",
       "      <td>1.729103</td>\n",
       "    </tr>\n",
       "    <tr>\n",
       "      <th>min</th>\n",
       "      <td>121.000000</td>\n",
       "      <td>20.000000</td>\n",
       "      <td>2500.000000</td>\n",
       "      <td>0.000000</td>\n",
       "    </tr>\n",
       "    <tr>\n",
       "      <th>25%</th>\n",
       "      <td>122.000000</td>\n",
       "      <td>21.000000</td>\n",
       "      <td>3550.000000</td>\n",
       "      <td>1.000000</td>\n",
       "    </tr>\n",
       "    <tr>\n",
       "      <th>50%</th>\n",
       "      <td>123.000000</td>\n",
       "      <td>22.000000</td>\n",
       "      <td>6000.000000</td>\n",
       "      <td>2.000000</td>\n",
       "    </tr>\n",
       "    <tr>\n",
       "      <th>75%</th>\n",
       "      <td>125.000000</td>\n",
       "      <td>24.000000</td>\n",
       "      <td>8500.000000</td>\n",
       "      <td>4.000000</td>\n",
       "    </tr>\n",
       "    <tr>\n",
       "      <th>max</th>\n",
       "      <td>126.000000</td>\n",
       "      <td>25.000000</td>\n",
       "      <td>10000.000000</td>\n",
       "      <td>5.000000</td>\n",
       "    </tr>\n",
       "  </tbody>\n",
       "</table>\n",
       "</div>"
      ],
      "text/plain": [
       "               ID        AGE       EXPENSE     RATING\n",
       "count   50.000000  50.000000     50.000000  50.000000\n",
       "mean   123.260000  22.300000   5977.000000   2.500000\n",
       "std      1.804869   1.693324   2691.600882   1.729103\n",
       "min    121.000000  20.000000   2500.000000   0.000000\n",
       "25%    122.000000  21.000000   3550.000000   1.000000\n",
       "50%    123.000000  22.000000   6000.000000   2.000000\n",
       "75%    125.000000  24.000000   8500.000000   4.000000\n",
       "max    126.000000  25.000000  10000.000000   5.000000"
      ]
     },
     "execution_count": 7,
     "metadata": {},
     "output_type": "execute_result"
    }
   ],
   "source": [
    "data.describe()"
   ]
  },
  {
   "cell_type": "code",
   "execution_count": 10,
   "metadata": {},
   "outputs": [
    {
     "data": {
      "text/plain": [
       "Index(['NAME', 'ID', 'AGE', 'CITY', 'EXPENSE', 'RATING'], dtype='object')"
      ]
     },
     "execution_count": 10,
     "metadata": {},
     "output_type": "execute_result"
    }
   ],
   "source": [
    "data.columns"
   ]
  },
  {
   "cell_type": "code",
   "execution_count": 20,
   "metadata": {},
   "outputs": [
    {
     "data": {
      "text/plain": [
       "<Axes: ylabel='Frequency'>"
      ]
     },
     "execution_count": 20,
     "metadata": {},
     "output_type": "execute_result"
    },
    {
     "data": {
      "image/png": "[encoded data removed]",
      "text/plain": [
       "<Figure size 640x480 with 1 Axes>"
      ]
     },
     "metadata": {},
     "output_type": "display_data"
    }
   ],
   "source": [
    "data.plot.hist()"
   ]
  },
  {
   "cell_type": "code",
   "execution_count": 17,
   "metadata": {},
   "outputs": [
    {
     "data": {
      "text/plain": [
       "(50, 6)"
      ]
     },
     "execution_count": 17,
     "metadata": {},
     "output_type": "execute_result"
    }
   ],
   "source": [
    "data.shape"
   ]
  },
  {
   "cell_type": "code",
   "execution_count": 22,
   "metadata": {},
   "outputs": [],
   "source": [
    "# for i in range(0,10):\n",
    "#     print(i)"
   ]
  },
  {
   "cell_type": "code",
   "execution_count": null,
   "metadata": {},
   "outputs": [],
   "source": []
  }
 ],
 "metadata": {
  "kernelspec": {
   "display_name": "Python 3",
   "language": "python",
   "name": "python3"
  },
  "language_info": {
   "codemirror_mode": {
    "name": "ipython",
    "version": 3
   },
   "file_extension": ".py",
   "mimetype": "text/x-python",
   "name": "python",
   "nbconvert_exporter": "python",
   "pygments_lexer": "ipython3",
   "version": "3.11.4"
  }
 },
 "nbformat": 4,
 "nbformat_minor": 2
}
