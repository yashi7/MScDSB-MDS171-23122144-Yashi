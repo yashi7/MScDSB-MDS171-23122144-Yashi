{
 "cells": [
  {
   "cell_type": "code",
   "execution_count": 39,
   "metadata": {},
   "outputs": [],
   "source": [
    "class petstore:\n",
    "    def __init__(self):\n",
    "        self.orders={}\n",
    "        self.stores={}\n",
    "\n",
    "    def createorders(self,orderid,petid,pet,breed,age,gender):\n",
    "        temp={\n",
    "            \"orderid\":orderid,\n",
    "            \"petid\":petid,\n",
    "            \"pet\":pet,\n",
    "            \"breed\":breed,\n",
    "            \"age\":age,\n",
    "            \"gender\":gender\n",
    "        }\n",
    "        self.orders[orderid]=temp\n",
    "\n",
    "    def createstore(self,pet,breed,gender,age,petid):\n",
    "        temp={\n",
    "            \n",
    "            \"pet\":pet,\n",
    "            \"breed\":breed,\n",
    "            \"gender\":gender,\n",
    "            \"age\":age,\n",
    "            \"petid\":petid,\n",
    "        }\n",
    "        self.stores[petid]=temp\n",
    "\n",
    "    def printorders(self):\n",
    "        print(self.orders)\n",
    "\n",
    "    def printstore(self):\n",
    "        print(self.stores)\n",
    "\n",
    "cute=petstore()\n",
    "\n",
    "\n",
    "\n",
    "\n",
    "\n"
   ]
  },
  {
   "cell_type": "code",
   "execution_count": 4,
   "metadata": {},
   "outputs": [],
   "source": [
    "\n",
    "# store=open(\"petstore.csv\",\"r\")\n",
    "# store_header=store.readline()\n",
    "# store_item=store.readlines()\n",
    "# store_item"
   ]
  },
  {
   "cell_type": "code",
   "execution_count": 5,
   "metadata": {},
   "outputs": [
    {
     "data": {
      "text/plain": [
       "['Dog,Husky,Male,2,D01\\n',\n",
       " 'Cat,Persian,Female,5,C01\\n',\n",
       " 'Dog,Pug,Male,8,D02\\n',\n",
       " 'Dog,Labrador,Female,4,D03\\n',\n",
       " 'Cat,Siberian,Male,1,C02\\n',\n",
       " 'Dog,Golden Retreiver,Female,7,D04\\n',\n",
       " 'Cat,Bombay Cat,Female,9,C03\\n',\n",
       " 'Cat,LaPerm,Male,4,C05\\n',\n",
       " 'Cat,Himalyan Cat,Female,3,C06\\n',\n",
       " 'Dog,Poodle,Male,5,D05\\n']"
      ]
     },
     "execution_count": 5,
     "metadata": {},
     "output_type": "execute_result"
    }
   ],
   "source": [
    "store_item"
   ]
  },
  {
   "cell_type": "code",
   "execution_count": 38,
   "metadata": {},
   "outputs": [
    {
     "data": {
      "text/plain": [
       "{'D01': {'pet': 'Dog',\n",
       "  'breed': 'Husky',\n",
       "  'gender': 'Male',\n",
       "  'age': '2',\n",
       "  'petid': 'D01'},\n",
       " 'C01': {'pet': 'Cat',\n",
       "  'breed': 'Persian',\n",
       "  'gender': 'Female',\n",
       "  'age': '5',\n",
       "  'petid': 'C01'},\n",
       " 'D02': {'pet': 'Dog',\n",
       "  'breed': 'Pug',\n",
       "  'gender': 'Male',\n",
       "  'age': '8',\n",
       "  'petid': 'D02'},\n",
       " 'D03': {'pet': 'Dog',\n",
       "  'breed': 'Labrador',\n",
       "  'gender': 'Female',\n",
       "  'age': '4',\n",
       "  'petid': 'D03'},\n",
       " 'C02': {'pet': 'Cat',\n",
       "  'breed': 'Siberian',\n",
       "  'gender': 'Male',\n",
       "  'age': '1',\n",
       "  'petid': 'C02'},\n",
       " 'D04': {'pet': 'Dog',\n",
       "  'breed': 'Golden Retreiver',\n",
       "  'gender': 'Female',\n",
       "  'age': '7',\n",
       "  'petid': 'D04'},\n",
       " 'C03': {'pet': 'Cat',\n",
       "  'breed': 'Bombay Cat',\n",
       "  'gender': 'Female',\n",
       "  'age': '9',\n",
       "  'petid': 'C03'},\n",
       " 'C05': {'pet': 'Cat',\n",
       "  'breed': 'LaPerm',\n",
       "  'gender': 'Male',\n",
       "  'age': '4',\n",
       "  'petid': 'C05'},\n",
       " 'C06': {'pet': 'Cat',\n",
       "  'breed': 'Himalyan Cat',\n",
       "  'gender': 'Female',\n",
       "  'age': '3',\n",
       "  'petid': 'C06'},\n",
       " 'D05': {'pet': 'Dog',\n",
       "  'breed': 'Poodle',\n",
       "  'gender': 'Male',\n",
       "  'age': '5',\n",
       "  'petid': 'D05'}}"
      ]
     },
     "execution_count": 38,
     "metadata": {},
     "output_type": "execute_result"
    }
   ],
   "source": [
    "cute.stores"
   ]
  },
  {
   "cell_type": "code",
   "execution_count": 40,
   "metadata": {},
   "outputs": [],
   "source": [
    "orderid=input(\"enter orderid\")\n",
    "petid=input(\"enter petid\")\n",
    "pet=input(\"enter pet type\")\n",
    "breed=input(\"enter breed\")\n",
    "age=input(\"input age\")\n",
    "gender=input(\"enter gender\")\n",
    "\n",
    "with open(\"orders.csv\",\"+a\") as file:\n",
    "    file.write(orderid+\",\"+petid+\",\"+pet+\",\"+breed+\",\"+age+\",\"+gender+\"\\n\")\n",
    "cute.createorders(orderid,petid,pet,breed,age,gender)\n",
    "order=open(\"orders.csv\",\"r\")\n",
    "order_header=order.readline()\n",
    "order_item=order.readlines()\n",
    "\n",
    "for item in order_item:\n",
    "    temp=item.strip().split(',')\n",
    "    cute.createorders(temp[0],temp[1],temp[2],temp[3],temp[4],temp[5])\n",
    "\n",
    "\n"
   ]
  },
  {
   "cell_type": "code",
   "execution_count": 41,
   "metadata": {},
   "outputs": [
    {
     "name": "stdout",
     "output_type": "stream",
     "text": [
      "{'5e465': {'orderid': '5e465', 'petid': 'giuhi', 'pet': 'hjgiuk', 'breed': 'hjbiuk', 'age': 'iuyghiukl', 'gender': 'hjbiul'}, '1003': {'orderid': '1003', 'petid': 'D05', 'pet': 'dog', 'breed': 'poodle', 'age': '5', 'gender': 'male'}, '1004': {'orderid': '1004', 'petid': 'D01', 'pet': 'dog', 'breed': 'husky', 'age': '2', 'gender': 'male'}, '78t78t8': {'orderid': '78t78t8', 'petid': 'kjhbiuk', 'pet': 'hbvuyh', 'breed': 'jnhiuk', 'age': 'hjvbuy', 'gender': 'hbhjb'}, '1005': {'orderid': '1005', 'petid': 'd01', 'pet': 'dog', 'breed': 'husky', 'age': '2', 'gender': 'male'}, 'jkbhiuki': {'orderid': 'jkbhiuki', 'petid': 'ygyuj]', 'pet': 'hbhj', 'breed': 'jkbjhbn', 'age': 'kjbhj', 'gender': 'hbyyui'}, 'uhekuh': {'orderid': 'uhekuh', 'petid': 'wkjesudheku', 'pet': 'ewhjbfkws', 'breed': 'hjbejwb', 'age': 'hjbcjwb', 'gender': 'jhbdcj'}, 'wnhdkuwah': {'orderid': 'wnhdkuwah', 'petid': 'kfhslid', 'pet': 'jrkhdf68746', 'breed': 'jhbrkvhjud563', 'age': 'rnk', 'gender': 'gj54'}, '1001': {'orderid': '1001', 'petid': 'd01', 'pet': 'dog', 'breed': 'pug', 'age': '9', 'gender': 'female'}, 'jhbuyjk': {'orderid': 'jhbuyjk', 'petid': 'jygyujh', 'pet': 'jhygyujb', 'breed': 'nyjuhgiuk', 'age': 'khjbhj', 'gender': 'lkjhuiukjl'}, '1234': {'orderid': '1234', 'petid': '6789', 'pet': 'ghjmhnj', 'breed': 'hgjh', 'age': '4', 'gender': 'kjh'}}\n",
      "{'D01': {'pet': 'Dog', 'breed': 'Husky', 'gender': 'Male', 'age': '2', 'petid': 'D01'}, 'C01': {'pet': 'Cat', 'breed': 'Persian', 'gender': 'Female', 'age': '5', 'petid': 'C01'}, 'D02': {'pet': 'Dog', 'breed': 'Pug', 'gender': 'Male', 'age': '8', 'petid': 'D02'}, 'D03': {'pet': 'Dog', 'breed': 'Labrador', 'gender': 'Female', 'age': '4', 'petid': 'D03'}, 'C02': {'pet': 'Cat', 'breed': 'Siberian', 'gender': 'Male', 'age': '1', 'petid': 'C02'}, 'D04': {'pet': 'Dog', 'breed': 'Golden Retreiver', 'gender': 'Female', 'age': '7', 'petid': 'D04'}, 'C03': {'pet': 'Cat', 'breed': 'Bombay Cat', 'gender': 'Female', 'age': '9', 'petid': 'C03'}, 'C05': {'pet': 'Cat', 'breed': 'LaPerm', 'gender': 'Male', 'age': '4', 'petid': 'C05'}, 'C06': {'pet': 'Cat', 'breed': 'Himalyan Cat', 'gender': 'Female', 'age': '3', 'petid': 'C06'}, 'D05': {'pet': 'Dog', 'breed': 'Poodle', 'gender': 'Male', 'age': '5', 'petid': 'D05'}}\n"
     ]
    }
   ],
   "source": [
    "cute.printorders()\n",
    "\n",
    "store=open(\"petstore.csv\",\"r\")\n",
    "store_header=store.readline()\n",
    "store_item=store.readlines()\n",
    "\n",
    "for item in store_item:\n",
    "    temp=item.strip().split(',')\n",
    "    cute.createstore(temp[0],temp[1],temp[2],temp[3],temp[4])\n",
    "cute.printstore()\n"
   ]
  },
  {
   "cell_type": "code",
   "execution_count": null,
   "metadata": {},
   "outputs": [],
   "source": []
  }
 ],
 "metadata": {
  "kernelspec": {
   "display_name": "Python 3",
   "language": "python",
   "name": "python3"
  },
  "language_info": {
   "codemirror_mode": {
    "name": "ipython",
    "version": 3
   },
   "file_extension": ".py",
   "mimetype": "text/x-python",
   "name": "python",
   "nbconvert_exporter": "python",
   "pygments_lexer": "ipython3",
   "version": "3.11.4"
  }
 },
 "nbformat": 4,
 "nbformat_minor": 2
}
