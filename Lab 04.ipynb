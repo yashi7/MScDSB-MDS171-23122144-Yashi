{
 "cells": [
  {
   "cell_type": "code",
   "execution_count": 1,
   "metadata": {},
   "outputs": [],
   "source": [
    "def orders(Name,product,Quantity):\n",
    "    file=open(\"GSMS\",\"a+\")\n",
    "    file.write(\"\\n\\t\"+name)\n",
    "    file.write(\"\\n\\t\"+Product)\n",
    "    file.write(\"\\n\\t\"+quantity)\n",
    "name=input(\"enter your name\")\n",
    "Product=input(\"enter the product you want to order\")\n",
    "quantity=input(\"enter the quntity of the product\")\n",
    "orders(name,Product,quantity)"
   ]
  },
  {
   "cell_type": "code",
   "execution_count": 2,
   "metadata": {},
   "outputs": [],
   "source": [
    "file=open(\"GSMS\",\"r+\")\n",
    "a=file.readlines()\n"
   ]
  },
  {
   "cell_type": "code",
   "execution_count": 3,
   "metadata": {},
   "outputs": [
    {
     "data": {
      "text/plain": [
       "['\\n', '\\tmayuri\\n', '\\tguava\\n', '\\t3\\n', '\\tyashi\\n', '\\tapple\\n', '\\t3']"
      ]
     },
     "execution_count": 3,
     "metadata": {},
     "output_type": "execute_result"
    }
   ],
   "source": [
    "a"
   ]
  },
  {
   "cell_type": "code",
   "execution_count": 4,
   "metadata": {},
   "outputs": [],
   "source": [
    "a\n",
    "counter=3\n",
    "lst=[]\n",
    "for i in a:\n",
    "    if counter==0:\n",
    "        lst.append(i)\n",
    "        counter=3\n",
    "    counter=counter-1\n",
    "        \n",
    " "
   ]
  },
  {
   "cell_type": "code",
   "execution_count": 5,
   "metadata": {},
   "outputs": [
    {
     "data": {
      "text/plain": [
       "['\\t3\\n', '\\t3']"
      ]
     },
     "execution_count": 5,
     "metadata": {},
     "output_type": "execute_result"
    }
   ],
   "source": [
    "lst"
   ]
  },
  {
   "cell_type": "code",
   "execution_count": 6,
   "metadata": {},
   "outputs": [],
   "source": [
    "counter=2\n",
    "lst1=[]\n",
    "for i in a:\n",
    "    if counter==0:\n",
    "        lst1.append(i)\n",
    "        counter=3\n",
    "    counter=counter-1"
   ]
  },
  {
   "cell_type": "code",
   "execution_count": 7,
   "metadata": {},
   "outputs": [
    {
     "data": {
      "text/plain": [
       "['\\tguava\\n', '\\tapple\\n']"
      ]
     },
     "execution_count": 7,
     "metadata": {},
     "output_type": "execute_result"
    }
   ],
   "source": [
    "lst1"
   ]
  },
  {
   "cell_type": "code",
   "execution_count": null,
   "metadata": {},
   "outputs": [],
   "source": []
  }
 ],
 "metadata": {
  "kernelspec": {
   "display_name": "Python 3",
   "language": "python",
   "name": "python3"
  },
  "language_info": {
   "codemirror_mode": {
    "name": "ipython",
    "version": 3
   },
   "file_extension": ".py",
   "mimetype": "text/x-python",
   "name": "python",
   "nbconvert_exporter": "python",
   "pygments_lexer": "ipython3",
   "version": "3.11.4"
  },
  "orig_nbformat": 4
 },
 "nbformat": 4,
 "nbformat_minor": 2
}
