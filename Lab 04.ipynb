{
 "cells": [
  {
   "cell_type": "code",
   "execution_count": 22,
   "metadata": {},
   "outputs": [],
   "source": [
    "def orders(Name,product,Quantity):\n",
    "    file=open(\"GSMS\",\"a+\")\n",
    "    file.write(\"\\nname\\t:\\t\"+name)\n",
    "    file.write(\"\\nproduct\\t:\\t\"+Product)\n",
    "    file.write(\"\\nQuantity\\t:\\t\"+quantity)\n",
    "name=input(\"enter your name\")\n",
    "Product=input(\"enter the product you want to order\")\n",
    "quantity=input(\"enter the quntity of the product\")\n",
    "orders(name,Product,quantity)"
   ]
  },
  {
   "cell_type": "code",
   "execution_count": 1,
   "metadata": {},
   "outputs": [
    {
     "data": {
      "text/plain": [
       "['\\n',\n",
       " 'name\\t:\\tmayuri\\n',\n",
       " 'product\\t:\\tbanana\\n',\n",
       " 'Quantity\\t:\\t6\\n',\n",
       " 'name\\t:\\tyashi\\n',\n",
       " 'product\\t:\\tapple\\n',\n",
       " 'Quantity\\t:\\t1\\n',\n",
       " 'name\\t:\\trayan\\n',\n",
       " 'product\\t:\\tgrapes\\n',\n",
       " 'Quantity\\t:\\t20\\n',\n",
       " 'name\\t:\\tansel\\n',\n",
       " 'product\\t:\\tpeaches\\n',\n",
       " 'Quantity\\t:\\t3']"
      ]
     },
     "execution_count": 1,
     "metadata": {},
     "output_type": "execute_result"
    }
   ],
   "source": [
    "file=open(\"GSMS\",\"r+\")\n",
    "file.readlines()"
   ]
  },
  {
   "cell_type": "code",
   "execution_count": null,
   "metadata": {},
   "outputs": [],
   "source": []
  }
 ],
 "metadata": {
  "kernelspec": {
   "display_name": "Python 3",
   "language": "python",
   "name": "python3"
  },
  "language_info": {
   "codemirror_mode": {
    "name": "ipython",
    "version": 3
   },
   "file_extension": ".py",
   "mimetype": "text/x-python",
   "name": "python",
   "nbconvert_exporter": "python",
   "pygments_lexer": "ipython3",
   "version": "3.11.4"
  },
  "orig_nbformat": 4
 },
 "nbformat": 4,
 "nbformat_minor": 2
}
